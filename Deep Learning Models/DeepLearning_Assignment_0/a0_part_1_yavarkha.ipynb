{
 "cells": [
  {
   "cell_type": "code",
   "execution_count": 1,
   "id": "9227853f",
   "metadata": {},
   "outputs": [
    {
     "data": {
      "text/plain": [
       "'2.4.1'"
      ]
     },
     "execution_count": 1,
     "metadata": {},
     "output_type": "execute_result"
    }
   ],
   "source": [
    "import torch;\n",
    "torch.__version__"
   ]
  },
  {
   "cell_type": "code",
   "execution_count": 2,
   "id": "b949296b",
   "metadata": {},
   "outputs": [
    {
     "name": "stdout",
     "output_type": "stream",
     "text": [
      "3.11.4 (v3.11.4:d2340ef257, Jun  6 2023, 19:15:51) [Clang 13.0.0 (clang-1300.0.29.30)]\n"
     ]
    }
   ],
   "source": [
    "import sys\n",
    "print(sys.version)"
   ]
  },
  {
   "cell_type": "markdown",
   "id": "ef568b0f",
   "metadata": {},
   "source": [
    "## PyTorch Tensors"
   ]
  },
  {
   "cell_type": "code",
   "execution_count": 3,
   "id": "3e23c22d",
   "metadata": {},
   "outputs": [
    {
     "name": "stdout",
     "output_type": "stream",
     "text": [
      "tensor([[0., 0., 0.],\n",
      "        [0., 0., 0.],\n",
      "        [0., 0., 0.],\n",
      "        [0., 0., 0.]])\n",
      "torch.float32\n"
     ]
    }
   ],
   "source": [
    "z = torch.zeros(4, 3)\n",
    "print(z)\n",
    "print(z.dtype)"
   ]
  },
  {
   "cell_type": "code",
   "execution_count": 4,
   "id": "93430a3c",
   "metadata": {},
   "outputs": [
    {
     "name": "stdout",
     "output_type": "stream",
     "text": [
      "tensor([[1, 1, 1],\n",
      "        [1, 1, 1],\n",
      "        [1, 1, 1],\n",
      "        [1, 1, 1]], dtype=torch.int16)\n"
     ]
    }
   ],
   "source": [
    "i = torch.ones((4, 3), dtype=torch.int16)\n",
    "print(i)"
   ]
  },
  {
   "cell_type": "code",
   "execution_count": 5,
   "id": "2119859b",
   "metadata": {},
   "outputs": [
    {
     "name": "stdout",
     "output_type": "stream",
     "text": [
      "A random tensor:\n",
      "tensor([[0.7644, 0.3751],\n",
      "        [0.0751, 0.5308],\n",
      "        [0.9660, 0.2770]])\n",
      "\n",
      "A different random tensor:\n",
      "tensor([[0.3372, 0.8910],\n",
      "        [0.4304, 0.3090],\n",
      "        [0.3993, 0.5183]])\n",
      "\n",
      "Should match r1:\n",
      "tensor([[0.7644, 0.3751],\n",
      "        [0.0751, 0.5308],\n",
      "        [0.9660, 0.2770]])\n"
     ]
    }
   ],
   "source": [
    "torch.manual_seed(24)\n",
    "r1 = torch.rand(3, 2)\n",
    "print('A random tensor:')\n",
    "print(r1)\n",
    "\n",
    "r2 = torch.rand(3, 2)\n",
    "print('\\nA different random tensor:')\n",
    "print(r2) # new values\n",
    "\n",
    "torch.manual_seed(24)\n",
    "r3 = torch.rand(3, 2)\n",
    "print('\\nShould match r1:')\n",
    "print(r3) "
   ]
  },
  {
   "cell_type": "code",
   "execution_count": 6,
   "id": "070cc9a7",
   "metadata": {},
   "outputs": [
    {
     "name": "stdout",
     "output_type": "stream",
     "text": [
      "tensor([[1., 1., 1.],\n",
      "        [1., 1., 1.],\n",
      "        [1., 1., 1.]])\n",
      "tensor([[3., 3., 3.],\n",
      "        [3., 3., 3.],\n",
      "        [3., 3., 3.]])\n",
      "tensor([[3., 3., 3.],\n",
      "        [3., 3., 3.],\n",
      "        [3., 3., 3.]])\n",
      "torch.Size([3, 3])\n"
     ]
    }
   ],
   "source": [
    "ones = torch.ones(3, 3)\n",
    "print(ones)\n",
    "\n",
    "threes = torch.ones(3, 3) * 3 # every element is multiplied by 3\n",
    "print(threes)\n",
    "\n",
    "fours = ones + threes       # addition allowed because shapes are similar\n",
    "print(threes)              # tensors are added element-wise\n",
    "print(threes.shape)        # this has the same dimensions as input tensors\n",
    "\n",
    "r1 = torch.rand(2, 3)\n",
    "r2 = torch.rand(3, 2)\n",
    "# uncomment this line to get a runtime error\n",
    "# r3 = r1 + r2"
   ]
  },
  {
   "cell_type": "code",
   "execution_count": 7,
   "id": "5f0b5b84",
   "metadata": {},
   "outputs": [
    {
     "name": "stdout",
     "output_type": "stream",
     "text": [
      "A random matrix, r:\n",
      "tensor([[-0.6022, -0.4981],\n",
      "        [-1.0941, -0.8023]])\n",
      "\n",
      "Absolute value of r:\n",
      "tensor([[0.6022, 0.4981],\n",
      "        [1.0941, 0.8023]])\n",
      "\n",
      "Inverse sine of r:\n",
      "tensor([[-0.6463, -0.5214],\n",
      "        [    nan, -0.9312]])\n",
      "\n",
      "Determinant of r:\n",
      "tensor(-0.0618)\n",
      "\n",
      "Singular value decomposition of r:\n",
      "torch.return_types.svd(\n",
      "U=tensor([[-0.4988, -0.8667],\n",
      "        [-0.8667,  0.4988]]),\n",
      "S=tensor([1.5653, 0.0395]),\n",
      "V=tensor([[ 0.7978, -0.6030],\n",
      "        [ 0.6030,  0.7978]]))\n",
      "\n",
      "Average and standard deviation of r:\n",
      "(tensor(0.2623), tensor(-0.7492))\n",
      "\n",
      "Maximum value of r:\n",
      "tensor(-0.4981)\n"
     ]
    }
   ],
   "source": [
    "r = (torch.rand(2, 2) - 0.6) * 2 \n",
    "print('A random matrix, r:')\n",
    "print(r)\n",
    "\n",
    "# Common mathematical operations are supported:\n",
    "print('\\nAbsolute value of r:')\n",
    "print(torch.abs(r))\n",
    "\n",
    "# ...as are trigonometric functions:\n",
    "print('\\nInverse sine of r:')\n",
    "print(torch.asin(r))\n",
    "\n",
    "# ...and linear algebra operations like determinant and singular value decomposition\n",
    "print('\\nDeterminant of r:')\n",
    "print(torch.det(r))\n",
    "print('\\nSingular value decomposition of r:')\n",
    "print(torch.svd(r))\n",
    "\n",
    "# ...and statistical and aggregate operations:\n",
    "print('\\nAverage and standard deviation of r:')\n",
    "print(torch.std_mean(r))\n",
    "print('\\nMaximum value of r:')\n",
    "print(torch.max(r))"
   ]
  },
  {
   "cell_type": "markdown",
   "id": "efb69009",
   "metadata": {},
   "source": [
    "## PYTORCH MODELS"
   ]
  },
  {
   "cell_type": "code",
   "execution_count": 8,
   "id": "10d716a5",
   "metadata": {},
   "outputs": [
    {
     "name": "stdout",
     "output_type": "stream",
     "text": [
      "LeNet(\n",
      "  (conv1): Conv2d(1, 6, kernel_size=(5, 5), stride=(1, 1))\n",
      "  (conv2): Conv2d(6, 16, kernel_size=(5, 5), stride=(1, 1))\n",
      "  (fc1): Linear(in_features=400, out_features=120, bias=True)\n",
      "  (fc2): Linear(in_features=120, out_features=84, bias=True)\n",
      "  (fc_extra1): Linear(in_features=84, out_features=64, bias=True)\n",
      "  (fc_extra2): Linear(in_features=64, out_features=32, bias=True)\n",
      "  (fc3): Linear(in_features=32, out_features=10, bias=True)\n",
      ")\n"
     ]
    }
   ],
   "source": [
    "import torch\n",
    "import torch.nn as nn\n",
    "import torch.nn.functional as F\n",
    "\n",
    "# Define the modified LeNet model\n",
    "class LeNet(nn.Module):\n",
    "    def __init__(self):\n",
    "        super(LeNet, self).__init__()\n",
    "        # 1 input image channel (grayscale), 6 output channels, 5x5 kernel\n",
    "        self.conv1 = nn.Conv2d(1, 6, 5)\n",
    "        self.conv2 = nn.Conv2d(6, 16, 5)\n",
    "        \n",
    "        # Fully connected layers\n",
    "        self.fc1 = nn.Linear(16 * 5 * 5, 120)  # 5*5 comes from image dimension after pooling\n",
    "        self.fc2 = nn.Linear(120, 84)\n",
    "        # Additional fully connected layers\n",
    "        self.fc_extra1 = nn.Linear(84, 64)\n",
    "        self.fc_extra2 = nn.Linear(64, 32)\n",
    "        self.fc3 = nn.Linear(32, 10)\n",
    "\n",
    "    def forward(self, x):\n",
    "        # Max pooling over a (2, 2) window\n",
    "        x = F.max_pool2d(F.relu(self.conv1(x)), (2, 2))\n",
    "        x = F.max_pool2d(F.relu(self.conv2(x)), 2)\n",
    "        x = x.view(-1, self.num_flat_features(x))\n",
    "        x = F.relu(self.fc1(x))\n",
    "        x = F.relu(self.fc2(x))\n",
    "        x = F.relu(self.fc_extra1(x))  # Pass through the new fully connected layer\n",
    "        x = F.relu(self.fc_extra2(x))  # Pass through the second new fully connected layer\n",
    "        x = self.fc3(x)\n",
    "        return x\n",
    "\n",
    "    def num_flat_features(self, x):\n",
    "        size = x.size()[1:]  # All dimensions except the batch dimension\n",
    "        num_features = 1\n",
    "        for s in size:\n",
    "            num_features *= s\n",
    "        return num_features\n",
    "\n",
    "# Instantiate the model\n",
    "net = LeNet()\n",
    "print(net)\n"
   ]
  },
  {
   "cell_type": "code",
   "execution_count": 9,
   "id": "edd310b1",
   "metadata": {},
   "outputs": [
    {
     "name": "stdout",
     "output_type": "stream",
     "text": [
      "\n",
      "Image batch shape:\n",
      "torch.Size([1, 1, 32, 32])\n",
      "\n",
      "Raw output:\n",
      "tensor([[ 0.1063,  0.0334, -0.0590, -0.0148, -0.1551,  0.0848,  0.1579, -0.0275,\n",
      "          0.1578,  0.1663]], grad_fn=<AddmmBackward0>)\n",
      "Output shape: torch.Size([1, 10])\n"
     ]
    }
   ],
   "source": [
    "input = torch.rand(1, 1, 32, 32)  # Batch size 1, 1 channel, 32x32 image\n",
    "print('\\nImage batch shape:')\n",
    "print(input.shape)\n",
    "\n",
    "# Forward pass the input through the modified model\n",
    "output = net(input)               \n",
    "print('\\nRaw output:')\n",
    "print(output)\n",
    "print('Output shape:', output.shape)"
   ]
  },
  {
   "cell_type": "markdown",
   "id": "47408365",
   "metadata": {},
   "source": [
    "## DATASETS AND DATALOADERS"
   ]
  },
  {
   "cell_type": "code",
   "execution_count": 10,
   "id": "c7eb46c3",
   "metadata": {},
   "outputs": [],
   "source": [
    "#%matplotlib inline\n",
    "\n",
    "import torch\n",
    "import torchvision\n",
    "import torchvision.transforms as transforms\n",
    "\n",
    "transform = transforms.Compose(\n",
    "    [transforms.ToTensor(),\n",
    "     transforms.Normalize((0.4814, 0.4822, 0.4465), (0.2570, 0.2435, 0.2616))])\n",
    "\n"
   ]
  },
  {
   "cell_type": "code",
   "execution_count": 11,
   "id": "81348d1b",
   "metadata": {},
   "outputs": [
    {
     "name": "stdout",
     "output_type": "stream",
     "text": [
      "Downloading https://www.cs.toronto.edu/~kriz/cifar-10-python.tar.gz to ./data/cifar-10-python.tar.gz\n"
     ]
    },
    {
     "name": "stderr",
     "output_type": "stream",
     "text": [
      "100%|████████████████████████████████████████████████████████████████████████████████████████████████████████████████████████████████████████████████████| 170498071/170498071 [00:18<00:00, 9423641.47it/s]\n"
     ]
    },
    {
     "name": "stdout",
     "output_type": "stream",
     "text": [
      "Extracting ./data/cifar-10-python.tar.gz to ./data\n"
     ]
    }
   ],
   "source": [
    "trainset = torchvision.datasets.CIFAR10(root='./data', train=True,\n",
    "                                        download=True, transform=transform)"
   ]
  },
  {
   "cell_type": "code",
   "execution_count": 12,
   "id": "7f0898b0",
   "metadata": {},
   "outputs": [],
   "source": [
    "trainloader = torch.utils.data.DataLoader(trainset, batch_size=4,\n",
    "                                          shuffle=True, num_workers=2)"
   ]
  },
  {
   "cell_type": "code",
   "execution_count": 13,
   "id": "13c4a44f",
   "metadata": {},
   "outputs": [
    {
     "name": "stderr",
     "output_type": "stream",
     "text": [
      "Clipping input data to the valid range for imshow with RGB data ([0..1] for floats or [0..255] for integers).\n"
     ]
    },
    {
     "name": "stdout",
     "output_type": "stream",
     "text": [
      "  cat  ship plane   dog\n"
     ]
    },
    {
     "data": {
      "image/png": "[encoded data removed]",
      "text/plain": [
       "<Figure size 640x480 with 1 Axes>"
      ]
     },
     "metadata": {},
     "output_type": "display_data"
    }
   ],
   "source": [
    "import matplotlib.pyplot as plt\n",
    "import numpy as np\n",
    "\n",
    "classes = ('plane', 'car', 'bird', 'cat',\n",
    "           'deer', 'dog', 'frog', 'horse', 'ship', 'truck')\n",
    "\n",
    "def imshow(img):\n",
    "    img = img / 2 + 0.5     # unnormalize\n",
    "    npimg = img.numpy()\n",
    "    plt.imshow(np.transpose(npimg, (1, 2, 0)))\n",
    "\n",
    "\n",
    "# get some random training images\n",
    "dataiter = iter(trainloader)\n",
    "images, labels = next(dataiter)\n",
    "\n",
    "# show images\n",
    "imshow(torchvision.utils.make_grid(images))\n",
    "# print labels\n",
    "print(' '.join('%5s' % classes[labels[j]] for j in range(4)))"
   ]
  },
  {
   "cell_type": "code",
   "execution_count": 14,
   "id": "248224aa",
   "metadata": {},
   "outputs": [],
   "source": [
    "#%matplotlib inline\n",
    "\n",
    "import torch\n",
    "import torch.nn as nn\n",
    "import torch.nn.functional as F\n",
    "import torch.optim as optim\n",
    "\n",
    "import torchvision\n",
    "import torchvision.transforms as transforms\n",
    "\n",
    "import matplotlib\n",
    "import matplotlib.pyplot as plt\n",
    "import numpy as np"
   ]
  },
  {
   "cell_type": "code",
   "execution_count": 15,
   "id": "fbdfe250",
   "metadata": {},
   "outputs": [
    {
     "name": "stdout",
     "output_type": "stream",
     "text": [
      "Files already downloaded and verified\n",
      "Files already downloaded and verified\n"
     ]
    }
   ],
   "source": [
    "transform = transforms.Compose(\n",
    "    [transforms.ToTensor(),\n",
    "     transforms.Normalize((0.5, 0.5, 0.5), (0.5, 0.5, 0.5))])\n",
    "\n",
    "trainset = torchvision.datasets.CIFAR10(root='./data', train=True,\n",
    "                                        download=True, transform=transform)\n",
    "trainloader = torch.utils.data.DataLoader(trainset, batch_size=4,\n",
    "                                          shuffle=True, num_workers=2)\n",
    "\n",
    "testset = torchvision.datasets.CIFAR10(root='./data', train=False,\n",
    "                                       download=True, transform=transform)\n",
    "testloader = torch.utils.data.DataLoader(testset, batch_size=4,\n",
    "                                         shuffle=False, num_workers=2)\n",
    "\n",
    "classes = ('plane', 'car', 'bird', 'cat',\n",
    "           'deer', 'dog', 'frog', 'horse', 'ship', 'truck')"
   ]
  },
  {
   "cell_type": "code",
   "execution_count": 16,
   "id": "98b39641",
   "metadata": {},
   "outputs": [
    {
     "name": "stdout",
     "output_type": "stream",
     "text": [
      "plane horse   cat  bird\n"
     ]
    },
    {
     "data": {
      "image/png": "[encoded data removed]",
      "text/plain": [
       "<Figure size 640x480 with 1 Axes>"
      ]
     },
     "metadata": {},
     "output_type": "display_data"
    }
   ],
   "source": [
    "import matplotlib.pyplot as plt\n",
    "import numpy as np\n",
    "\n",
    "# functions to show an image\n",
    "\n",
    "\n",
    "def imshow(img):\n",
    "    img = img / 2 + 0.5     # unnormalize\n",
    "    npimg = img.numpy()\n",
    "    plt.imshow(np.transpose(npimg, (1, 2, 0)))\n",
    "\n",
    "\n",
    "# get some random training images\n",
    "dataiter = iter(trainloader)\n",
    "images, labels = next(dataiter)\n",
    "\n",
    "# show images\n",
    "imshow(torchvision.utils.make_grid(images))\n",
    "# print labels\n",
    "print(' '.join('%5s' % classes[labels[j]] for j in range(4)))"
   ]
  },
  {
   "cell_type": "code",
   "execution_count": 17,
   "id": "887b2c92",
   "metadata": {},
   "outputs": [],
   "source": [
    "class Net(nn.Module):\n",
    "    def __init__(self):\n",
    "        super(Net, self).__init__()\n",
    "        self.conv1 = nn.Conv2d(3, 6, 5)\n",
    "        self.pool = nn.MaxPool2d(2, 2)\n",
    "        self.conv2 = nn.Conv2d(6, 16, 5)\n",
    "        self.fc1 = nn.Linear(16 * 5 * 5, 120)\n",
    "        self.fc2 = nn.Linear(120, 84)\n",
    "        self.fc3 = nn.Linear(84, 10)\n",
    "\n",
    "    def forward(self, x):\n",
    "        x = self.pool(F.relu(self.conv1(x)))\n",
    "        x = self.pool(F.relu(self.conv2(x)))\n",
    "        x = x.view(-1, 16 * 5 * 5)\n",
    "        x = F.relu(self.fc1(x))\n",
    "        x = F.relu(self.fc2(x))\n",
    "        x = self.fc3(x)\n",
    "        return x\n",
    "\n",
    "\n",
    "net = Net()"
   ]
  },
  {
   "cell_type": "code",
   "execution_count": 18,
   "id": "835f3f19",
   "metadata": {},
   "outputs": [],
   "source": [
    "criterion = nn.CrossEntropyLoss()\n",
    "optimizer = optim.SGD(net.parameters(), lr=0.002, momentum=0.8)"
   ]
  },
  {
   "cell_type": "code",
   "execution_count": 19,
   "id": "dc418a73",
   "metadata": {},
   "outputs": [
    {
     "name": "stdout",
     "output_type": "stream",
     "text": [
      "[1,  2000] loss: 2.218\n",
      "[1,  4000] loss: 1.868\n",
      "[1,  6000] loss: 1.690\n",
      "[1,  8000] loss: 1.572\n",
      "[1, 10000] loss: 1.502\n",
      "[1, 12000] loss: 1.461\n",
      "[2,  2000] loss: 1.382\n",
      "[2,  4000] loss: 1.375\n",
      "[2,  6000] loss: 1.338\n",
      "[2,  8000] loss: 1.318\n",
      "[2, 10000] loss: 1.306\n",
      "[2, 12000] loss: 1.276\n",
      "[3,  2000] loss: 1.213\n",
      "[3,  4000] loss: 1.185\n",
      "[3,  6000] loss: 1.206\n",
      "[3,  8000] loss: 1.183\n",
      "[3, 10000] loss: 1.189\n",
      "[3, 12000] loss: 1.156\n",
      "Finished Training\n"
     ]
    }
   ],
   "source": [
    "for epoch in range(3):  # loop over the dataset multiple times\n",
    "\n",
    "    running_loss = 0.0\n",
    "    for i, data in enumerate(trainloader, 0):\n",
    "        # get the inputs\n",
    "        inputs, labels = data\n",
    "\n",
    "        # zero the parameter gradients\n",
    "        optimizer.zero_grad()\n",
    "\n",
    "        # forward + backward + optimize\n",
    "        outputs = net(inputs)\n",
    "        loss = criterion(outputs, labels)\n",
    "        loss.backward()\n",
    "        optimizer.step()\n",
    "\n",
    "        # print statistics\n",
    "        running_loss += loss.item()\n",
    "        if i % 2000 == 1999:    # print every 2000 mini-batches\n",
    "            print('[%d, %5d] loss: %.3f' %\n",
    "                  (epoch + 1, i + 1, running_loss / 2000))\n",
    "            running_loss = 0.0\n",
    "\n",
    "print('Finished Training')"
   ]
  },
  {
   "cell_type": "code",
   "execution_count": 20,
   "id": "ec304d99",
   "metadata": {},
   "outputs": [
    {
     "name": "stdout",
     "output_type": "stream",
     "text": [
      "Accuracy of the network on the 10000 test images: 57 %\n"
     ]
    }
   ],
   "source": [
    "correct = 0\n",
    "total = 0\n",
    "with torch.no_grad():\n",
    "    for data in testloader:\n",
    "        images, labels = data\n",
    "        outputs = net(images)\n",
    "        _, predicted = torch.max(outputs.data, 1)\n",
    "        total += labels.size(0)\n",
    "        correct += (predicted == labels).sum().item()\n",
    "\n",
    "print('Accuracy of the network on the 10000 test images: %d %%' % (\n",
    "    100 * correct / total))"
   ]
  },
  {
   "cell_type": "code",
   "execution_count": null,
   "id": "34867fbc",
   "metadata": {},
   "outputs": [],
   "source": []
  },
  {
   "cell_type": "markdown",
   "id": "2e3a6c50",
   "metadata": {},
   "source": [
    "## Introduction to PyTorch Tensors"
   ]
  },
  {
   "cell_type": "code",
   "execution_count": 21,
   "id": "85e8ff77",
   "metadata": {},
   "outputs": [
    {
     "name": "stdout",
     "output_type": "stream",
     "text": [
      "torch.Size([3, 2, 3])\n",
      "tensor([[[0., 0., 0.],\n",
      "         [0., 0., 0.]],\n",
      "\n",
      "        [[0., 0., 0.],\n",
      "         [0., 0., 0.]],\n",
      "\n",
      "        [[0., 0., 0.],\n",
      "         [0., 0., 0.]]])\n",
      "torch.Size([3, 2, 3])\n",
      "tensor([[[0., 0., 0.],\n",
      "         [0., 0., 0.]],\n",
      "\n",
      "        [[0., 0., 0.],\n",
      "         [0., 0., 0.]],\n",
      "\n",
      "        [[0., 0., 0.],\n",
      "         [0., 0., 0.]]])\n",
      "torch.Size([3, 2, 3])\n",
      "tensor([[[0., 0., 0.],\n",
      "         [0., 0., 0.]],\n",
      "\n",
      "        [[0., 0., 0.],\n",
      "         [0., 0., 0.]],\n",
      "\n",
      "        [[0., 0., 0.],\n",
      "         [0., 0., 0.]]])\n",
      "torch.Size([3, 2, 3])\n",
      "tensor([[[1., 1., 1.],\n",
      "         [1., 1., 1.]],\n",
      "\n",
      "        [[1., 1., 1.],\n",
      "         [1., 1., 1.]],\n",
      "\n",
      "        [[1., 1., 1.],\n",
      "         [1., 1., 1.]]])\n",
      "torch.Size([3, 2, 3])\n",
      "tensor([[[0.3924, 0.5349, 0.3512],\n",
      "         [0.0602, 0.6268, 0.3117]],\n",
      "\n",
      "        [[0.0357, 0.6506, 0.2205],\n",
      "         [0.2593, 0.8586, 0.7017]],\n",
      "\n",
      "        [[0.1213, 0.7918, 0.0055],\n",
      "         [0.4019, 0.7628, 0.1084]]])\n"
     ]
    }
   ],
   "source": [
    "# Tensor shape\n",
    "\n",
    "x = torch.empty(3, 2, 3)\n",
    "print(x.shape)\n",
    "print(x)\n",
    "\n",
    "empty_like_x = torch.empty_like(x)\n",
    "print(empty_like_x.shape)\n",
    "print(empty_like_x)\n",
    "\n",
    "zeros_like_x = torch.zeros_like(x)\n",
    "print(zeros_like_x.shape)\n",
    "print(zeros_like_x)\n",
    "\n",
    "ones_like_x = torch.ones_like(x)\n",
    "print(ones_like_x.shape)\n",
    "print(ones_like_x)\n",
    "\n",
    "rand_like_x = torch.rand_like(x)\n",
    "print(rand_like_x.shape)\n",
    "print(rand_like_x)"
   ]
  },
  {
   "cell_type": "code",
   "execution_count": 22,
   "id": "555aceb9",
   "metadata": {},
   "outputs": [
    {
     "name": "stdout",
     "output_type": "stream",
     "text": [
      "tensor([[4.1415, 5.7183],\n",
      "        [2.6180, 1.0073]])\n",
      "tensor([ 2,  3,  5,  7, 11, 13, 17, 19])\n",
      "tensor([[2, 4, 6],\n",
      "        [3, 6, 9]])\n"
     ]
    }
   ],
   "source": [
    "some_constants = torch.tensor([[4.141526, 5.71828], [2.61803, 1.0072897]])\n",
    "print(some_constants)\n",
    "\n",
    "some_integers = torch.tensor((2, 3, 5, 7, 11, 13, 17, 19))\n",
    "print(some_integers)\n",
    "\n",
    "more_integers = torch.tensor(((2, 4, 6), [3, 6, 9]))\n",
    "print(more_integers)"
   ]
  },
  {
   "cell_type": "code",
   "execution_count": 23,
   "id": "32d210fa",
   "metadata": {},
   "outputs": [
    {
     "name": "stdout",
     "output_type": "stream",
     "text": [
      "tensor([[1, 1, 1],\n",
      "        [1, 1, 1],\n",
      "        [1, 1, 1]], dtype=torch.int16)\n",
      "tensor([[ 7.2314, 20.9135, 28.0724],\n",
      "        [27.7144, 12.0375,  8.1864],\n",
      "        [19.6813,  5.2013, 20.9081]], dtype=torch.float64)\n",
      "tensor([[ 7, 20, 28],\n",
      "        [27, 12,  8],\n",
      "        [19,  5, 20]], dtype=torch.int32)\n"
     ]
    }
   ],
   "source": [
    "# Tensor DataType\n",
    "\n",
    "a = torch.ones((3, 3), dtype=torch.int16)\n",
    "print(a)\n",
    "\n",
    "b = torch.rand((3, 3), dtype=torch.float64) * 30.\n",
    "print(b)\n",
    "\n",
    "c = b.to(torch.int32)\n",
    "print(c)"
   ]
  },
  {
   "cell_type": "code",
   "execution_count": 24,
   "id": "86ce17ba",
   "metadata": {},
   "outputs": [
    {
     "name": "stdout",
     "output_type": "stream",
     "text": [
      "tensor([[2., 2.],\n",
      "        [2., 2.]])\n",
      "tensor([[3., 3.],\n",
      "        [3., 3.]])\n",
      "tensor([[4.5000, 4.5000],\n",
      "        [4.5000, 4.5000]])\n",
      "tensor([[9., 9.],\n",
      "        [9., 9.]])\n",
      "tensor([[1.9332, 1.9332],\n",
      "        [1.9332, 1.9332]])\n"
     ]
    }
   ],
   "source": [
    "# Math & Logic with PyTorch Tensors\n",
    "\n",
    "ones = torch.zeros(2, 2) + 2\n",
    "twos = torch.ones(2, 2) * 3\n",
    "threes = (torch.ones(2, 2) * 10 - 1) / 2\n",
    "fours = twos ** 2\n",
    "sqrt2s = twos ** 0.6\n",
    "\n",
    "print(ones)\n",
    "print(twos)\n",
    "print(threes)\n",
    "print(fours)\n",
    "print(sqrt2s)"
   ]
  },
  {
   "cell_type": "code",
   "execution_count": 25,
   "id": "c0c46e37",
   "metadata": {},
   "outputs": [
    {
     "name": "stdout",
     "output_type": "stream",
     "text": [
      "tensor([[ 3.,  9.],\n",
      "        [27., 81.]])\n",
      "tensor([[11., 11.],\n",
      "        [11., 11.]])\n",
      "tensor([[40.5000, 40.5000],\n",
      "        [40.5000, 40.5000]])\n"
     ]
    }
   ],
   "source": [
    "powers2 = twos ** torch.tensor([[1, 2], [3, 4]])\n",
    "print(powers2)\n",
    "\n",
    "fives = ones + fours\n",
    "print(fives)\n",
    "\n",
    "dozens = threes * fours\n",
    "print(dozens)"
   ]
  },
  {
   "cell_type": "code",
   "execution_count": 26,
   "id": "10a36cd0",
   "metadata": {},
   "outputs": [
    {
     "name": "stdout",
     "output_type": "stream",
     "text": [
      "tensor([[0.2662, 0.3771, 0.1410, 0.7745],\n",
      "        [0.1874, 0.6557, 0.1524, 0.7523]])\n",
      "tensor([[0.5323, 0.7542, 0.2819, 1.5491],\n",
      "        [0.3749, 1.3114, 0.3048, 1.5046]])\n"
     ]
    }
   ],
   "source": [
    "# Tensor Broadcasting\n",
    "\n",
    "rand = torch.rand(2, 4)\n",
    "doubled = rand * (torch.ones(1, 4) * 2)\n",
    "\n",
    "print(rand)\n",
    "print(doubled)"
   ]
  },
  {
   "cell_type": "code",
   "execution_count": 27,
   "id": "76e622b1",
   "metadata": {},
   "outputs": [
    {
     "name": "stdout",
     "output_type": "stream",
     "text": [
      "tensor([[[9.5414e-01, 8.4751e-01],\n",
      "         [7.9064e-01, 8.6111e-04],\n",
      "         [7.0677e-01, 7.5238e-01]],\n",
      "\n",
      "        [[9.5414e-01, 8.4751e-01],\n",
      "         [7.9064e-01, 8.6111e-04],\n",
      "         [7.0677e-01, 7.5238e-01]],\n",
      "\n",
      "        [[9.5414e-01, 8.4751e-01],\n",
      "         [7.9064e-01, 8.6111e-04],\n",
      "         [7.0677e-01, 7.5238e-01]],\n",
      "\n",
      "        [[9.5414e-01, 8.4751e-01],\n",
      "         [7.9064e-01, 8.6111e-04],\n",
      "         [7.0677e-01, 7.5238e-01]]])\n",
      "tensor([[[0.7298, 0.7298],\n",
      "         [0.3648, 0.3648],\n",
      "         [0.4727, 0.4727]],\n",
      "\n",
      "        [[0.7298, 0.7298],\n",
      "         [0.3648, 0.3648],\n",
      "         [0.4727, 0.4727]],\n",
      "\n",
      "        [[0.7298, 0.7298],\n",
      "         [0.3648, 0.3648],\n",
      "         [0.4727, 0.4727]],\n",
      "\n",
      "        [[0.7298, 0.7298],\n",
      "         [0.3648, 0.3648],\n",
      "         [0.4727, 0.4727]]])\n",
      "tensor([[[0.6352, 0.4683],\n",
      "         [0.6352, 0.4683],\n",
      "         [0.6352, 0.4683]],\n",
      "\n",
      "        [[0.6352, 0.4683],\n",
      "         [0.6352, 0.4683],\n",
      "         [0.6352, 0.4683]],\n",
      "\n",
      "        [[0.6352, 0.4683],\n",
      "         [0.6352, 0.4683],\n",
      "         [0.6352, 0.4683]],\n",
      "\n",
      "        [[0.6352, 0.4683],\n",
      "         [0.6352, 0.4683],\n",
      "         [0.6352, 0.4683]]])\n"
     ]
    }
   ],
   "source": [
    "a =     torch.ones(4, 3, 2)\n",
    "\n",
    "b = a * torch.rand(   3, 2) \n",
    "print(b)\n",
    "\n",
    "c = a * torch.rand(   3, 1) \n",
    "print(c)\n",
    "\n",
    "d = a * torch.rand(   1, 2) \n",
    "print(d)"
   ]
  },
  {
   "cell_type": "code",
   "execution_count": 28,
   "id": "1d97a9a6",
   "metadata": {},
   "outputs": [
    {
     "name": "stdout",
     "output_type": "stream",
     "text": [
      "Common functions:\n",
      "tensor([[0.4757, 0.2832, 0.2942, 0.3264],\n",
      "        [0.2643, 0.3889, 0.1599, 0.0022]])\n",
      "tensor([[-0., -0., 1., 1.],\n",
      "        [-0., 1., -0., 1.]])\n",
      "tensor([[-1., -1.,  0.,  0.],\n",
      "        [-1.,  0., -1.,  0.]])\n",
      "tensor([[-0.4757, -0.2832,  0.2942,  0.3264],\n",
      "        [-0.2643,  0.3889, -0.1599,  0.0022]])\n",
      "\n",
      "Sine and arcsine:\n",
      "tensor([0.0000, 0.7854, 1.5708, 2.3562])\n",
      "tensor([0.0000, 0.7071, 1.0000, 0.7071])\n",
      "tensor([0.0000, 0.7854, 1.5708, 0.7854])\n",
      "\n",
      "Bitwise XOR:\n",
      "tensor([3, 2, 1])\n",
      "\n",
      "Broadcasted, element-wise equality comparison:\n",
      "tensor([[ True, False],\n",
      "        [False, False]])\n",
      "\n",
      "Reduction ops:\n",
      "tensor(4.)\n",
      "4.0\n",
      "tensor(2.5000)\n",
      "tensor(1.2910)\n",
      "tensor(24.)\n",
      "tensor([1, 2])\n",
      "\n",
      "Vectors & Matrices:\n",
      "tensor([ 0.,  0., -1.])\n",
      "tensor([[0.0786, 0.6877],\n",
      "        [0.8768, 0.9800]])\n",
      "tensor([[0.2359, 2.0630],\n",
      "        [2.6304, 2.9401]])\n",
      "torch.return_types.linalg_svd(\n",
      "U=tensor([[-0.4220, -0.9066],\n",
      "        [-0.9066,  0.4220]]),\n",
      "S=tensor([4.3215, 1.0952]),\n",
      "Vh=tensor([[-0.5749, -0.8182],\n",
      "        [ 0.8182, -0.5749]]))\n"
     ]
    }
   ],
   "source": [
    "# common functions\n",
    "\n",
    "import math\n",
    "a = torch.rand(2, 4) * 2 - 1\n",
    "print('Common functions:')\n",
    "print(torch.abs(a))\n",
    "print(torch.ceil(a))\n",
    "print(torch.floor(a))\n",
    "print(torch.clamp(a, -0.5, 0.5))\n",
    "\n",
    "# trigonometric functions and their inverses\n",
    "angles = torch.tensor([0, math.pi / 4, math.pi / 2, 3 * math.pi / 4])\n",
    "sines = torch.sin(angles)\n",
    "inverses = torch.asin(sines)\n",
    "print('\\nSine and arcsine:')\n",
    "print(angles)\n",
    "print(sines)\n",
    "print(inverses)\n",
    "\n",
    "# bitwise operations\n",
    "print('\\nBitwise XOR:')\n",
    "b = torch.tensor([1, 5, 11])\n",
    "c = torch.tensor([2, 7, 10])\n",
    "print(torch.bitwise_xor(b, c))\n",
    "\n",
    "# comparisons:\n",
    "print('\\nBroadcasted, element-wise equality comparison:')\n",
    "d = torch.tensor([[1., 2.], [3., 4.]])\n",
    "e = torch.ones(1, 2)  # many comparison ops support broadcasting!\n",
    "print(torch.eq(d, e)) # returns a tensor of type bool\n",
    "\n",
    "# reductions:\n",
    "print('\\nReduction ops:')\n",
    "print(torch.max(d))        # returns a single-element tensor\n",
    "print(torch.max(d).item()) # extracts the value from the returned tensor\n",
    "print(torch.mean(d))       # average\n",
    "print(torch.std(d))        # standard deviation\n",
    "print(torch.prod(d))       # product of all numbers\n",
    "print(torch.unique(torch.tensor([1, 2, 1, 2, 1, 2]))) # filter unique elements\n",
    "\n",
    "# vector and linear algebra operations\n",
    "v1 = torch.tensor([1., 0., 0.])         # x unit vector\n",
    "v2 = torch.tensor([0., 1., 0.])         # y unit vector\n",
    "m1 = torch.rand(2, 2)                   # random matrix\n",
    "m2 = torch.tensor([[3., 0.], [0., 3.]]) # three times identity matrix\n",
    "\n",
    "print('\\nVectors & Matrices:')\n",
    "print(torch.linalg.cross(v2, v1)) # negative of z unit vector (v1 x v2 == -v2 x v1)\n",
    "print(m1)\n",
    "m3 = torch.linalg.matmul(m1, m2)\n",
    "print(m3)                  # 3 times m1\n",
    "print(torch.linalg.svd(m3))       # singular value decomposition"
   ]
  },
  {
   "cell_type": "code",
   "execution_count": 29,
   "id": "5de62639",
   "metadata": {},
   "outputs": [
    {
     "name": "stdout",
     "output_type": "stream",
     "text": [
      "a:\n",
      "tensor([0.0000, 0.7854, 1.5708, 1.8850])\n",
      "tensor([0.0000, 0.7071, 1.0000, 0.9511])\n",
      "tensor([0.0000, 0.7854, 1.5708, 1.8850])\n",
      "\n",
      "b:\n",
      "tensor([0.0000, 0.7854, 1.5708, 1.8850])\n",
      "tensor([0.0000, 0.7071, 1.0000, 0.9511])\n",
      "tensor([0.0000, 0.7071, 1.0000, 0.9511])\n"
     ]
    }
   ],
   "source": [
    "#Altering Tensors in Place\n",
    "\n",
    "a = torch.tensor([0, math.pi / 4, math.pi / 2, 3 * math.pi / 5])\n",
    "print('a:')\n",
    "print(a)\n",
    "print(torch.sin(a))  \n",
    "print(a)              \n",
    "\n",
    "b = torch.tensor([0, math.pi / 4, math.pi / 2, 3 * math.pi / 5])\n",
    "print('\\nb:')\n",
    "print(b)\n",
    "print(torch.sin_(b))  \n",
    "print(b)              "
   ]
  },
  {
   "cell_type": "code",
   "execution_count": 30,
   "id": "432e6de5",
   "metadata": {},
   "outputs": [
    {
     "name": "stdout",
     "output_type": "stream",
     "text": [
      "tensor([[0., 0.],\n",
      "        [0., 0.]])\n",
      "tensor([[0.0467, 0.3283],\n",
      "        [0.7787, 1.0560]])\n",
      "tensor([[0.7981, 0.8707],\n",
      "        [0.3021, 0.3861]])\n"
     ]
    }
   ],
   "source": [
    "a = torch.rand(2, 2)\n",
    "b = torch.rand(2, 2)\n",
    "c = torch.zeros(2, 2)\n",
    "old_id = id(c)\n",
    "\n",
    "print(c)\n",
    "d = torch.matmul(a, b, out=c)\n",
    "print(c)                # contents of c have changed\n",
    "\n",
    "assert c is d           # test c & d are same object, not just containing equal values\n",
    "assert id(c) == old_id  # make sure that our new c is the same object as the old one\n",
    "\n",
    "torch.rand(2, 2, out=c) # works for creation too!\n",
    "print(c)                # c has changed again\n",
    "assert id(c) == old_id  # still the same object!"
   ]
  },
  {
   "cell_type": "code",
   "execution_count": 31,
   "id": "364480dd",
   "metadata": {},
   "outputs": [
    {
     "name": "stdout",
     "output_type": "stream",
     "text": [
      "tensor([[  1., 561.],\n",
      "        [  1.,   1.]])\n",
      "tensor([[True, True],\n",
      "        [True, True]])\n",
      "tensor([[1., 1.],\n",
      "        [1., 1.]])\n"
     ]
    }
   ],
   "source": [
    "# copying tensors\n",
    "\n",
    "a = torch.ones(2, 2)\n",
    "b = a\n",
    "\n",
    "a[0][1] = 561  # we change a...\n",
    "print(b)       # ...and b is also altered\n",
    "\n",
    "a = torch.ones(2, 2)\n",
    "b = a.clone()\n",
    "\n",
    "assert b is not a      # different objects in memory...\n",
    "print(torch.eq(a, b))  # ...but still with the same contents!\n",
    "\n",
    "a[0][1] = 561          # a changes...\n",
    "print(b)               # ...but b is still all ones"
   ]
  },
  {
   "cell_type": "code",
   "execution_count": 32,
   "id": "edd61909",
   "metadata": {},
   "outputs": [
    {
     "name": "stdout",
     "output_type": "stream",
     "text": [
      "No accelerator available (CUDA not found).\n"
     ]
    }
   ],
   "source": [
    "# Moving to Accelerator\n",
    "\n",
    "import torch\n",
    "\n",
    "# Checking for GPU or accelerator availability\n",
    "if torch.cuda.is_available():\n",
    "    print(\"We have an accelerator (CUDA available)!\")\n",
    "else:\n",
    "    print(\"No accelerator available (CUDA not found).\")\n",
    "\n",
    "    "
   ]
  },
  {
   "cell_type": "code",
   "execution_count": 33,
   "id": "5950d81a",
   "metadata": {},
   "outputs": [
    {
     "name": "stdout",
     "output_type": "stream",
     "text": [
      "Device: cpu\n",
      "tensor([[0.9196, 0.8689],\n",
      "        [0.8729, 0.5784]])\n"
     ]
    }
   ],
   "source": [
    "my_device = torch.cuda.current_accelerator() if torch.cuda.is_available() else torch.device('cpu')\n",
    "print('Device: {}'.format(my_device))\n",
    "\n",
    "x = torch.rand(2, 2, device=my_device)\n",
    "print(x)"
   ]
  },
  {
   "cell_type": "code",
   "execution_count": 34,
   "id": "d4d8ca2b",
   "metadata": {},
   "outputs": [
    {
     "name": "stdout",
     "output_type": "stream",
     "text": [
      "torch.Size([3, 228, 228])\n",
      "torch.Size([1, 3, 228, 228])\n"
     ]
    }
   ],
   "source": [
    "# Manipulating Tensor Shapes\n",
    "a = torch.rand(3, 228, 228)\n",
    "b = a.unsqueeze(0)\n",
    "\n",
    "print(a.shape)\n",
    "print(b.shape)\n"
   ]
  },
  {
   "cell_type": "code",
   "execution_count": 35,
   "id": "71fd5a71",
   "metadata": {},
   "outputs": [
    {
     "name": "stdout",
     "output_type": "stream",
     "text": [
      "tensor([[[[[0.3428]],\n",
      "\n",
      "          [[0.3043]],\n",
      "\n",
      "          [[0.6124]]],\n",
      "\n",
      "\n",
      "         [[[0.8711]],\n",
      "\n",
      "          [[0.8708]],\n",
      "\n",
      "          [[0.6216]]],\n",
      "\n",
      "\n",
      "         [[[0.7322]],\n",
      "\n",
      "          [[0.7988]],\n",
      "\n",
      "          [[0.9034]]]]])\n"
     ]
    }
   ],
   "source": [
    "c = torch.rand(1, 3, 3, 1, 1)\n",
    "print(c)"
   ]
  },
  {
   "cell_type": "code",
   "execution_count": 36,
   "id": "a04f9e57",
   "metadata": {},
   "outputs": [
    {
     "name": "stdout",
     "output_type": "stream",
     "text": [
      "tensor([[[0.6084, 0.6084],\n",
      "         [0.5253, 0.5253],\n",
      "         [0.1118, 0.1118]],\n",
      "\n",
      "        [[0.6084, 0.6084],\n",
      "         [0.5253, 0.5253],\n",
      "         [0.1118, 0.1118]],\n",
      "\n",
      "        [[0.6084, 0.6084],\n",
      "         [0.5253, 0.5253],\n",
      "         [0.1118, 0.1118]],\n",
      "\n",
      "        [[0.6084, 0.6084],\n",
      "         [0.5253, 0.5253],\n",
      "         [0.1118, 0.1118]]])\n"
     ]
    }
   ],
   "source": [
    "a = torch.ones(4, 3, 2)\n",
    "\n",
    "c = a * torch.rand(   3, 1) \n",
    "print(c)"
   ]
  },
  {
   "cell_type": "code",
   "execution_count": 37,
   "id": "964dae53",
   "metadata": {},
   "outputs": [
    {
     "name": "stdout",
     "output_type": "stream",
     "text": [
      "torch.Size([3, 1])\n",
      "tensor([[[0.0576, 0.0576],\n",
      "         [0.7106, 0.7106],\n",
      "         [0.0897, 0.0897]],\n",
      "\n",
      "        [[0.0576, 0.0576],\n",
      "         [0.7106, 0.7106],\n",
      "         [0.0897, 0.0897]],\n",
      "\n",
      "        [[0.0576, 0.0576],\n",
      "         [0.7106, 0.7106],\n",
      "         [0.0897, 0.0897]],\n",
      "\n",
      "        [[0.0576, 0.0576],\n",
      "         [0.7106, 0.7106],\n",
      "         [0.0897, 0.0897]],\n",
      "\n",
      "        [[0.0576, 0.0576],\n",
      "         [0.7106, 0.7106],\n",
      "         [0.0897, 0.0897]]])\n"
     ]
    }
   ],
   "source": [
    "a = torch.ones(5, 3, 2)\n",
    "b = torch.rand(   3)     # trying to multiply a * b will give a runtime error\n",
    "c = b.unsqueeze(1)       # change to a 2-dimensional tensor, adding new dim at the end\n",
    "print(c.shape)\n",
    "print(a * c)             # broadcasting works again!"
   ]
  },
  {
   "cell_type": "code",
   "execution_count": 38,
   "id": "369a0c0a",
   "metadata": {},
   "outputs": [
    {
     "name": "stdout",
     "output_type": "stream",
     "text": [
      "torch.Size([3, 226, 226])\n",
      "torch.Size([1, 3, 226, 226])\n"
     ]
    }
   ],
   "source": [
    "batch_me = torch.rand(3, 226, 226)\n",
    "print(batch_me.shape)\n",
    "batch_me.unsqueeze_(0)\n",
    "print(batch_me.shape)"
   ]
  },
  {
   "cell_type": "code",
   "execution_count": 39,
   "id": "90548d43",
   "metadata": {},
   "outputs": [
    {
     "name": "stdout",
     "output_type": "stream",
     "text": [
      "torch.Size([6, 20, 20])\n",
      "torch.Size([2400])\n",
      "torch.Size([2400])\n"
     ]
    }
   ],
   "source": [
    "output3d = torch.rand(6, 20, 20)\n",
    "print(output3d.shape)\n",
    "\n",
    "input1d = output3d.reshape(6 * 20 * 20)\n",
    "print(input1d.shape)\n",
    "\n",
    "# can also call it as a method on the torch module:\n",
    "print(torch.reshape(output3d, (6 * 20 * 20,)).shape)"
   ]
  },
  {
   "cell_type": "code",
   "execution_count": 40,
   "id": "3e99b9cb",
   "metadata": {},
   "outputs": [
    {
     "name": "stdout",
     "output_type": "stream",
     "text": [
      "[[1. 1. 1.]\n",
      " [1. 1. 1.]\n",
      " [1. 1. 1.]]\n",
      "tensor([[1., 1., 1.],\n",
      "        [1., 1., 1.],\n",
      "        [1., 1., 1.]], dtype=torch.float64)\n"
     ]
    }
   ],
   "source": [
    "# Numpy bridge\n",
    "\n",
    "import numpy as np\n",
    "\n",
    "numpy_array = np.ones((3, 3))\n",
    "print(numpy_array)\n",
    "\n",
    "pytorch_tensor = torch.from_numpy(numpy_array)\n",
    "print(pytorch_tensor)"
   ]
  },
  {
   "cell_type": "code",
   "execution_count": 41,
   "id": "39612636",
   "metadata": {},
   "outputs": [
    {
     "name": "stdout",
     "output_type": "stream",
     "text": [
      "tensor([[0.5784, 0.5853, 0.4148],\n",
      "        [0.3500, 0.6906, 0.2244]])\n",
      "[[0.57842743 0.58529466 0.41478038]\n",
      " [0.3499999  0.6906049  0.22438121]]\n"
     ]
    }
   ],
   "source": [
    "pytorch_rand = torch.rand(2, 3)\n",
    "print(pytorch_rand)\n",
    "\n",
    "numpy_rand = pytorch_rand.numpy()\n",
    "print(numpy_rand)"
   ]
  },
  {
   "cell_type": "code",
   "execution_count": 42,
   "id": "bd79f547",
   "metadata": {},
   "outputs": [
    {
     "name": "stdout",
     "output_type": "stream",
     "text": [
      "tensor([[ 1.,  1.,  1.],\n",
      "        [ 1., 24.,  1.],\n",
      "        [ 1.,  1.,  1.]], dtype=torch.float64)\n",
      "[[ 0.57842743  0.58529466  0.41478038]\n",
      " [ 0.3499999  18.          0.22438121]]\n"
     ]
    }
   ],
   "source": [
    "numpy_array[1, 1] = 24\n",
    "print(pytorch_tensor)\n",
    "\n",
    "pytorch_rand[1, 1] = 18\n",
    "print(numpy_rand)"
   ]
  },
  {
   "cell_type": "markdown",
   "id": "db75fd08",
   "metadata": {},
   "source": [
    "## The Fundamentals of Autograd"
   ]
  },
  {
   "cell_type": "code",
   "execution_count": 43,
   "id": "db5f222b",
   "metadata": {},
   "outputs": [
    {
     "name": "stdout",
     "output_type": "stream",
     "text": [
      "tensor([0.0000, 0.3307, 0.6614, 0.9921, 1.3228, 1.6535, 1.9842, 2.3149, 2.6456,\n",
      "        2.9762, 3.3069, 3.6376, 3.9683, 4.2990, 4.6297, 4.9604, 5.2911, 5.6218,\n",
      "        5.9525, 6.2832], requires_grad=True)\n"
     ]
    },
    {
     "data": {
      "text/plain": [
       "[<matplotlib.lines.Line2D at 0x1497a32d0>]"
      ]
     },
     "execution_count": 43,
     "metadata": {},
     "output_type": "execute_result"
    },
    {
     "data": {
      "image/png": "[encoded data removed]",
      "text/plain": [
       "<Figure size 640x480 with 1 Axes>"
      ]
     },
     "metadata": {},
     "output_type": "display_data"
    }
   ],
   "source": [
    "# %matplotlib inline\n",
    "\n",
    "import torch\n",
    "\n",
    "import matplotlib.pyplot as plt\n",
    "import matplotlib.ticker as ticker\n",
    "import math\n",
    "\n",
    "a = torch.linspace(0., 2. * math.pi, steps=20, requires_grad=True)\n",
    "print(a)\n",
    "\n",
    "b = torch.cos(a)\n",
    "plt.plot(a.detach(), b.detach())\n",
    "\n"
   ]
  },
  {
   "cell_type": "code",
   "execution_count": 44,
   "id": "fa04b981",
   "metadata": {},
   "outputs": [
    {
     "name": "stdout",
     "output_type": "stream",
     "text": [
      "tensor([ 1.0000,  0.9458,  0.7891,  0.5469,  0.2455, -0.0826, -0.4017, -0.6773,\n",
      "        -0.8795, -0.9864, -0.9864, -0.8795, -0.6773, -0.4017, -0.0826,  0.2455,\n",
      "         0.5469,  0.7891,  0.9458,  1.0000], grad_fn=<CosBackward0>)\n"
     ]
    }
   ],
   "source": [
    "print(b)"
   ]
  },
  {
   "cell_type": "code",
   "execution_count": 45,
   "id": "0d58f2cd",
   "metadata": {},
   "outputs": [
    {
     "name": "stdout",
     "output_type": "stream",
     "text": [
      "tensor([ 2.0000,  1.8916,  1.5783,  1.0939,  0.4910, -0.1652, -0.8034, -1.3546,\n",
      "        -1.7589, -1.9727, -1.9727, -1.7589, -1.3546, -0.8034, -0.1652,  0.4910,\n",
      "         1.0939,  1.5783,  1.8916,  2.0000], grad_fn=<MulBackward0>)\n",
      "tensor([ 3.0000,  2.8916,  2.5783,  2.0939,  1.4910,  0.8348,  0.1966, -0.3546,\n",
      "        -0.7589, -0.9727, -0.9727, -0.7589, -0.3546,  0.1966,  0.8348,  1.4910,\n",
      "         2.0939,  2.5783,  2.8916,  3.0000], grad_fn=<AddBackward0>)\n"
     ]
    }
   ],
   "source": [
    "c = 2 * b\n",
    "print(c)\n",
    "\n",
    "d = c + 1\n",
    "print(d)"
   ]
  },
  {
   "cell_type": "code",
   "execution_count": 46,
   "id": "d8bf51f2",
   "metadata": {},
   "outputs": [
    {
     "name": "stdout",
     "output_type": "stream",
     "text": [
      "tensor(22.0000, grad_fn=<SumBackward0>)\n"
     ]
    }
   ],
   "source": [
    "out = d.sum()\n",
    "print(out)"
   ]
  },
  {
   "cell_type": "code",
   "execution_count": 47,
   "id": "2eb4d804",
   "metadata": {},
   "outputs": [
    {
     "name": "stdout",
     "output_type": "stream",
     "text": [
      "d:\n",
      "<AddBackward0 object at 0x1495dbb20>\n",
      "((<MulBackward0 object at 0x1495daaa0>, 0), (None, 0))\n",
      "((<CosBackward0 object at 0x1495dbb20>, 0), (None, 0))\n",
      "((<AccumulateGrad object at 0x1495d9de0>, 0),)\n",
      "()\n",
      "\n",
      "c:\n",
      "<MulBackward0 object at 0x1495daaa0>\n",
      "\n",
      "b:\n",
      "<CosBackward0 object at 0x1495daaa0>\n",
      "\n",
      "a:\n",
      "None\n"
     ]
    }
   ],
   "source": [
    "print('d:')\n",
    "print(d.grad_fn)\n",
    "print(d.grad_fn.next_functions)\n",
    "print(d.grad_fn.next_functions[0][0].next_functions)\n",
    "print(d.grad_fn.next_functions[0][0].next_functions[0][0].next_functions)\n",
    "print(d.grad_fn.next_functions[0][0].next_functions[0][0].next_functions[0][0].next_functions)\n",
    "print('\\nc:')\n",
    "print(c.grad_fn)\n",
    "print('\\nb:')\n",
    "print(b.grad_fn)\n",
    "print('\\na:')\n",
    "print(a.grad_fn)"
   ]
  },
  {
   "cell_type": "code",
   "execution_count": 48,
   "id": "ce03e464",
   "metadata": {},
   "outputs": [
    {
     "name": "stdout",
     "output_type": "stream",
     "text": [
      "tensor([-0.0000e+00, -6.4940e-01, -1.2284e+00, -1.6743e+00, -1.9388e+00,\n",
      "        -1.9932e+00, -1.8315e+00, -1.4714e+00, -9.5189e-01, -3.2919e-01,\n",
      "         3.2919e-01,  9.5190e-01,  1.4714e+00,  1.8315e+00,  1.9932e+00,\n",
      "         1.9388e+00,  1.6743e+00,  1.2284e+00,  6.4940e-01, -3.4969e-07])\n"
     ]
    },
    {
     "data": {
      "text/plain": [
       "[<matplotlib.lines.Line2D at 0x1499fb390>]"
      ]
     },
     "execution_count": 48,
     "metadata": {},
     "output_type": "execute_result"
    },
    {
     "data": {
      "image/png": "[encoded data removed]",
      "text/plain": [
       "<Figure size 640x480 with 1 Axes>"
      ]
     },
     "metadata": {},
     "output_type": "display_data"
    }
   ],
   "source": [
    "out.backward()\n",
    "print(a.grad)\n",
    "plt.plot(a.detach(), a.grad.detach())"
   ]
  },
  {
   "cell_type": "code",
   "execution_count": 49,
   "id": "a720ec5d",
   "metadata": {},
   "outputs": [],
   "source": [
    "a = torch.linspace(0., 2. * math.pi, steps=25, requires_grad=True)\n",
    "b = torch.sin(a)\n",
    "c = 2 * b\n",
    "d = c + 2\n",
    "out = d.sum()"
   ]
  },
  {
   "cell_type": "code",
   "execution_count": 50,
   "id": "c651cd7f",
   "metadata": {},
   "outputs": [],
   "source": [
    "# Autograd in Training\n",
    "BATCH_SIZE = 20\n",
    "DIM_IN = 1000\n",
    "HIDDEN_SIZE = 70\n",
    "DIM_OUT = 10\n",
    "\n",
    "class TinyModel(torch.nn.Module):\n",
    "\n",
    "    def __init__(self):\n",
    "        super(TinyModel, self).__init__()\n",
    "\n",
    "        self.layer1 = torch.nn.Linear(DIM_IN, HIDDEN_SIZE)\n",
    "        self.relu = torch.nn.ReLU()\n",
    "        self.layer2 = torch.nn.Linear(HIDDEN_SIZE, DIM_OUT)\n",
    "\n",
    "    def forward(self, x):\n",
    "        x = self.layer1(x)\n",
    "        x = self.relu(x)\n",
    "        x = self.layer2(x)\n",
    "        return x\n",
    "\n",
    "some_input = torch.randn(BATCH_SIZE, DIM_IN, requires_grad=False)\n",
    "ideal_output = torch.randn(BATCH_SIZE, DIM_OUT, requires_grad=False)\n",
    "\n",
    "model = TinyModel()"
   ]
  },
  {
   "cell_type": "code",
   "execution_count": 51,
   "id": "7589eb17",
   "metadata": {},
   "outputs": [
    {
     "name": "stdout",
     "output_type": "stream",
     "text": [
      "tensor([ 0.0417, -0.0953, -0.1099, -0.0635, -0.0670, -0.0965,  0.0692, -0.0770,\n",
      "        -0.0001, -0.0712], grad_fn=<SliceBackward0>)\n",
      "None\n"
     ]
    }
   ],
   "source": [
    "print(model.layer2.weight[0][0:10]) \n",
    "print(model.layer2.weight.grad)"
   ]
  },
  {
   "cell_type": "code",
   "execution_count": 52,
   "id": "2e8b88a5",
   "metadata": {},
   "outputs": [
    {
     "name": "stdout",
     "output_type": "stream",
     "text": [
      "tensor(226.1898, grad_fn=<SumBackward0>)\n"
     ]
    }
   ],
   "source": [
    "optimizer = torch.optim.SGD(model.parameters(), lr=0.001)\n",
    "\n",
    "prediction = model(some_input)\n",
    "\n",
    "loss = (ideal_output - prediction).pow(2).sum()\n",
    "print(loss)"
   ]
  },
  {
   "cell_type": "code",
   "execution_count": 53,
   "id": "dc637930",
   "metadata": {},
   "outputs": [
    {
     "name": "stdout",
     "output_type": "stream",
     "text": [
      "tensor([ 0.0417, -0.0953, -0.1099, -0.0635, -0.0670, -0.0965,  0.0692, -0.0770,\n",
      "        -0.0001, -0.0712], grad_fn=<SliceBackward0>)\n",
      "tensor([ -7.2016,  -4.9874,  -2.4962,  -7.1727,  -6.1770,  -3.6634, -10.1367,\n",
      "         -9.9895,  -2.8631,  -7.9322])\n"
     ]
    }
   ],
   "source": [
    "loss.backward()\n",
    "print(model.layer2.weight[0][0:10])\n",
    "print(model.layer2.weight.grad[0][0:10])"
   ]
  },
  {
   "cell_type": "code",
   "execution_count": 54,
   "id": "aed20ca5",
   "metadata": {},
   "outputs": [
    {
     "name": "stdout",
     "output_type": "stream",
     "text": [
      "tensor([ 0.0489, -0.0904, -0.1075, -0.0563, -0.0608, -0.0928,  0.0793, -0.0670,\n",
      "         0.0027, -0.0632], grad_fn=<SliceBackward0>)\n",
      "tensor([ -7.2016,  -4.9874,  -2.4962,  -7.1727,  -6.1770,  -3.6634, -10.1367,\n",
      "         -9.9895,  -2.8631,  -7.9322])\n"
     ]
    }
   ],
   "source": [
    "optimizer.step()\n",
    "print(model.layer2.weight[0][0:10])\n",
    "print(model.layer2.weight.grad[0][0:10])"
   ]
  },
  {
   "cell_type": "code",
   "execution_count": 55,
   "id": "2eb1cc2b",
   "metadata": {},
   "outputs": [
    {
     "name": "stdout",
     "output_type": "stream",
     "text": [
      "tensor([ -7.2016,  -4.9874,  -2.4962,  -7.1727,  -6.1770,  -3.6634, -10.1367,\n",
      "         -9.9895,  -2.8631,  -7.9322])\n",
      "tensor([-23.7095,   0.4488,   6.3401, -15.4411, -12.5499,  -2.5568, -32.1855,\n",
      "        -55.5126, -13.0288,  -8.0399])\n",
      "tensor([0., 0., 0., 0., 0., 0., 0., 0., 0., 0.])\n"
     ]
    }
   ],
   "source": [
    "print(model.layer2.weight.grad[0][0:10])\n",
    "\n",
    "for i in range(0, 5):\n",
    "    prediction = model(some_input)\n",
    "    loss = (ideal_output - prediction).pow(2).sum()\n",
    "    loss.backward()\n",
    "\n",
    "print(model.layer2.weight.grad[0][0:10])\n",
    "\n",
    "optimizer.zero_grad(set_to_none=False)\n",
    "\n",
    "print(model.layer2.weight.grad[0][0:10])"
   ]
  },
  {
   "cell_type": "code",
   "execution_count": 56,
   "id": "9ee2e9d1",
   "metadata": {},
   "outputs": [
    {
     "name": "stdout",
     "output_type": "stream",
     "text": [
      "tensor([[1., 1., 1.],\n",
      "        [1., 1., 1.]], requires_grad=True)\n",
      "tensor([[2., 2., 2.],\n",
      "        [2., 2., 2.]], grad_fn=<MulBackward0>)\n",
      "tensor([[2., 2., 2.],\n",
      "        [2., 2., 2.]])\n"
     ]
    }
   ],
   "source": [
    "#Turning Autograd Off and On\n",
    "\n",
    "a = torch.ones(2, 3, requires_grad=True)\n",
    "print(a)\n",
    "\n",
    "b1 = 2 * a\n",
    "print(b1)\n",
    "\n",
    "a.requires_grad = False\n",
    "b2 = 2 * a\n",
    "print(b2)"
   ]
  },
  {
   "cell_type": "code",
   "execution_count": 57,
   "id": "3d974b62",
   "metadata": {},
   "outputs": [
    {
     "name": "stdout",
     "output_type": "stream",
     "text": [
      "tensor([[37., 37., 37.],\n",
      "        [37., 37., 37.]], grad_fn=<AddBackward0>)\n",
      "tensor([[37., 37., 37.],\n",
      "        [37., 37., 37.]])\n",
      "tensor([[102., 102., 102.],\n",
      "        [102., 102., 102.]], grad_fn=<MulBackward0>)\n"
     ]
    }
   ],
   "source": [
    "a = torch.ones(2, 3, requires_grad=True) * 3\n",
    "b = torch.ones(2, 3, requires_grad=True) * 34\n",
    "c1 = a + b\n",
    "print(c1)\n",
    "\n",
    "with torch.no_grad():\n",
    "    c2 = a + b\n",
    "\n",
    "print(c2)\n",
    "\n",
    "c3 = a * b\n",
    "print(c3)"
   ]
  },
  {
   "cell_type": "code",
   "execution_count": 58,
   "id": "a98feb71",
   "metadata": {},
   "outputs": [
    {
     "name": "stdout",
     "output_type": "stream",
     "text": [
      "tensor([[5., 5., 5.],\n",
      "        [5., 5., 5.]], grad_fn=<AddBackward0>)\n",
      "tensor([[5., 5., 5.],\n",
      "        [5., 5., 5.]])\n"
     ]
    }
   ],
   "source": [
    "def add_tensors1(x, y):\n",
    "    return x + y\n",
    "\n",
    "@torch.no_grad()\n",
    "def add_tensors2(x, y):\n",
    "    return x + y\n",
    "\n",
    "\n",
    "a = torch.ones(2, 3, requires_grad=True) * 2\n",
    "b = torch.ones(2, 3, requires_grad=True) * 3\n",
    "\n",
    "c1 = add_tensors1(a, b)\n",
    "print(c1)\n",
    "\n",
    "c2 = add_tensors2(a, b)\n",
    "print(c2)"
   ]
  },
  {
   "cell_type": "code",
   "execution_count": 59,
   "id": "ffe2bed0",
   "metadata": {},
   "outputs": [
    {
     "name": "stdout",
     "output_type": "stream",
     "text": [
      "tensor([0.3681, 0.2634, 0.8139, 0.0262, 0.3597], requires_grad=True)\n",
      "tensor([0.3681, 0.2634, 0.8139, 0.0262, 0.3597])\n"
     ]
    }
   ],
   "source": [
    "x = torch.rand(5, requires_grad=True)\n",
    "y = x.detach()\n",
    "\n",
    "print(x)\n",
    "print(y)"
   ]
  },
  {
   "cell_type": "code",
   "execution_count": 60,
   "id": "0c601a19",
   "metadata": {},
   "outputs": [
    {
     "ename": "RuntimeError",
     "evalue": "a leaf Variable that requires grad is being used in an in-place operation.",
     "output_type": "error",
     "traceback": [
      "\u001b[0;31m---------------------------------------------------------------------------\u001b[0m",
      "\u001b[0;31mRuntimeError\u001b[0m                              Traceback (most recent call last)",
      "Cell \u001b[0;32mIn[60], line 4\u001b[0m\n\u001b[1;32m      1\u001b[0m \u001b[38;5;66;03m#Autograd and In-place Operations\u001b[39;00m\n\u001b[1;32m      3\u001b[0m a \u001b[38;5;241m=\u001b[39m torch\u001b[38;5;241m.\u001b[39mlinspace(\u001b[38;5;241m0.\u001b[39m, \u001b[38;5;241m2.\u001b[39m \u001b[38;5;241m*\u001b[39m math\u001b[38;5;241m.\u001b[39mpi, steps\u001b[38;5;241m=\u001b[39m\u001b[38;5;241m25\u001b[39m, requires_grad\u001b[38;5;241m=\u001b[39m\u001b[38;5;28;01mTrue\u001b[39;00m)\n\u001b[0;32m----> 4\u001b[0m \u001b[43mtorch\u001b[49m\u001b[38;5;241;43m.\u001b[39;49m\u001b[43msin_\u001b[49m\u001b[43m(\u001b[49m\u001b[43ma\u001b[49m\u001b[43m)\u001b[49m\n",
      "\u001b[0;31mRuntimeError\u001b[0m: a leaf Variable that requires grad is being used in an in-place operation."
     ]
    }
   ],
   "source": [
    "#Autograd and In-place Operations\n",
    "\n",
    "a = torch.linspace(0., 2. * math.pi, steps=25, requires_grad=True)\n",
    "torch.sin_(a)"
   ]
  },
  {
   "cell_type": "code",
   "execution_count": 61,
   "id": "bfdce028",
   "metadata": {},
   "outputs": [],
   "source": [
    "# the above output is expected"
   ]
  },
  {
   "cell_type": "code",
   "execution_count": 62,
   "id": "8556cae3",
   "metadata": {},
   "outputs": [
    {
     "name": "stdout",
     "output_type": "stream",
     "text": [
      "-------------  ------------  ------------  ------------  ------------  ------------  ------------  \n",
      "         Name    Self CPU %      Self CPU   CPU total %     CPU total  CPU time avg    # of Calls  \n",
      "-------------  ------------  ------------  ------------  ------------  ------------  ------------  \n",
      "    aten::mul        50.10%       2.746ms        50.10%       2.746ms       3.432us           800  \n",
      "    aten::div        49.90%       2.734ms        49.90%       2.734ms       3.418us           800  \n",
      "-------------  ------------  ------------  ------------  ------------  ------------  ------------  \n",
      "Self CPU time total: 5.480ms\n",
      "\n"
     ]
    }
   ],
   "source": [
    "# Autograd Profiler\n",
    "\n",
    "device = torch.device('cpu')\n",
    "run_on_gpu = False\n",
    "if torch.cuda.is_available():\n",
    "    device = torch.device('cuda')\n",
    "    run_on_gpu = True\n",
    "\n",
    "x = torch.randn(2, 3, requires_grad=True)\n",
    "y = torch.rand(2, 3, requires_grad=True)\n",
    "z = torch.ones(2, 3, requires_grad=True)\n",
    "\n",
    "with torch.autograd.profiler.profile(use_cuda=run_on_gpu) as prf:\n",
    "    for _ in range(800):\n",
    "        z = (z / x) * y\n",
    "\n",
    "print(prf.key_averages().table(sort_by='self_cpu_time_total'))"
   ]
  },
  {
   "cell_type": "code",
   "execution_count": 63,
   "id": "4b0aa519",
   "metadata": {},
   "outputs": [
    {
     "name": "stdout",
     "output_type": "stream",
     "text": [
      "tensor([ 431.8339, 1463.0240,  641.3862], grad_fn=<MulBackward0>)\n"
     ]
    }
   ],
   "source": [
    "# More Autograd Detail and the High-Level API\n",
    "\n",
    "x = torch.randn(3, requires_grad=True)\n",
    "\n",
    "y = x * 2\n",
    "while y.data.norm() < 1000:\n",
    "    y = y * 2\n",
    "\n",
    "print(y)"
   ]
  },
  {
   "cell_type": "code",
   "execution_count": 64,
   "id": "dc5c8598",
   "metadata": {},
   "outputs": [
    {
     "name": "stdout",
     "output_type": "stream",
     "text": [
      "tensor([1.0240e+02, 1.0240e+03, 1.0240e-02])\n"
     ]
    }
   ],
   "source": [
    "v = torch.tensor([0.1, 1.0, 0.00001], dtype=torch.float) # stand-in for gradients\n",
    "y.backward(v)\n",
    "\n",
    "print(x.grad)"
   ]
  },
  {
   "cell_type": "code",
   "execution_count": 65,
   "id": "fc72b7d2",
   "metadata": {},
   "outputs": [
    {
     "name": "stdout",
     "output_type": "stream",
     "text": [
      "(tensor([0.1126]), tensor([0.1538]))\n"
     ]
    },
    {
     "data": {
      "text/plain": [
       "(tensor([[2.2384]]), tensor([[3.]]))"
      ]
     },
     "execution_count": 65,
     "metadata": {},
     "output_type": "execute_result"
    }
   ],
   "source": [
    "# The High-Level API\n",
    "\n",
    "def exp_adder(x, y):\n",
    "    return 2 * x.exp() + 3 * y\n",
    "\n",
    "inputs = (torch.rand(1), torch.rand(1)) # arguments for the function\n",
    "print(inputs)\n",
    "torch.autograd.functional.jacobian(exp_adder, inputs)"
   ]
  },
  {
   "cell_type": "code",
   "execution_count": 66,
   "id": "703ae66c",
   "metadata": {},
   "outputs": [
    {
     "name": "stdout",
     "output_type": "stream",
     "text": [
      "(tensor([0.3774, 0.9775, 0.5012]), tensor([0.4387, 0.4703, 0.7515]))\n"
     ]
    },
    {
     "data": {
      "text/plain": [
       "(tensor([[2.9170, 0.0000, 0.0000],\n",
       "         [0.0000, 5.3155, 0.0000],\n",
       "         [0.0000, 0.0000, 3.3014]]),\n",
       " tensor([[3., 0., 0.],\n",
       "         [0., 3., 0.],\n",
       "         [0., 0., 3.]]))"
      ]
     },
     "execution_count": 66,
     "metadata": {},
     "output_type": "execute_result"
    }
   ],
   "source": [
    "inputs = (torch.rand(3), torch.rand(3)) # arguments for the function\n",
    "print(inputs)\n",
    "torch.autograd.functional.jacobian(exp_adder, inputs)"
   ]
  },
  {
   "cell_type": "code",
   "execution_count": 67,
   "id": "6ee432f5",
   "metadata": {},
   "outputs": [
    {
     "data": {
      "text/plain": [
       "(tensor([-559.6221, -931.3870, -207.2944]),\n",
       " tensor([1.0240e+02, 1.0240e+03, 1.0240e-01]))"
      ]
     },
     "execution_count": 67,
     "metadata": {},
     "output_type": "execute_result"
    }
   ],
   "source": [
    "def do_some_doubling(x):\n",
    "    y = x * 2\n",
    "    while y.data.norm() < 1000:\n",
    "        y = y * 2\n",
    "    return y\n",
    "\n",
    "inputs = torch.randn(3)\n",
    "my_gradients = torch.tensor([0.1, 1.0, 0.0001])\n",
    "torch.autograd.functional.vjp(do_some_doubling, inputs, v=my_gradients)"
   ]
  },
  {
   "cell_type": "markdown",
   "id": "7770de01",
   "metadata": {},
   "source": [
    "## Building Models with PyTorch"
   ]
  },
  {
   "cell_type": "code",
   "execution_count": 68,
   "id": "8a14fb6d",
   "metadata": {},
   "outputs": [
    {
     "name": "stdout",
     "output_type": "stream",
     "text": [
      "The model:\n",
      "TinyModel(\n",
      "  (linear1): Linear(in_features=100, out_features=256, bias=True)\n",
      "  (activation): ReLU()\n",
      "  (linear2): Linear(in_features=256, out_features=12, bias=True)\n",
      "  (softmax): Softmax(dim=1)\n",
      ")\n",
      "\n",
      "\n",
      "Just one layer:\n",
      "Linear(in_features=256, out_features=12, bias=True)\n",
      "\n",
      "\n",
      "Model params:\n",
      "Parameter containing:\n",
      "tensor([[-0.0704, -0.0445,  0.0376,  ..., -0.0972, -0.0382, -0.0928],\n",
      "        [-0.0440, -0.0875,  0.0560,  ..., -0.0970, -0.0104, -0.0230],\n",
      "        [-0.0755, -0.0308, -0.0985,  ...,  0.0742,  0.0991,  0.0245],\n",
      "        ...,\n",
      "        [-0.0034, -0.0897,  0.0329,  ..., -0.0180, -0.0052,  0.0153],\n",
      "        [ 0.0022, -0.0639,  0.0975,  ...,  0.0542, -0.0465,  0.0340],\n",
      "        [-0.0225,  0.0973,  0.0815,  ..., -0.0663, -0.0828,  0.0518]],\n",
      "       requires_grad=True)\n",
      "Parameter containing:\n",
      "tensor([-0.0116, -0.0469,  0.0322,  0.0119, -0.0188, -0.0548,  0.0300,  0.0722,\n",
      "         0.0424,  0.0278,  0.0210, -0.0874, -0.0668, -0.0745, -0.0628, -0.0364,\n",
      "         0.0604, -0.0117, -0.0338, -0.0095, -0.0361,  0.0674, -0.0119,  0.0931,\n",
      "         0.0049,  0.0160,  0.0465,  0.0577,  0.0367, -0.0979, -0.0853,  0.0012,\n",
      "         0.0844,  0.0657, -0.0388, -0.0437, -0.0006,  0.0508,  0.0872,  0.0805,\n",
      "        -0.0996,  0.0388,  0.0424, -0.0220,  0.0526, -0.0358, -0.0337, -0.0857,\n",
      "         0.0237, -0.0679,  0.0826,  0.0477, -0.0237,  0.0119,  0.0624,  0.0214,\n",
      "        -0.0990,  0.0267,  0.0740,  0.0755, -0.0396, -0.0291,  0.0273,  0.0470,\n",
      "        -0.0504,  0.0735,  0.0116,  0.0819, -0.0193, -0.0244,  0.0363, -0.0829,\n",
      "        -0.0834, -0.0244,  0.0350,  0.0134, -0.0948, -0.0034,  0.0869,  0.0537,\n",
      "         0.0565,  0.0500, -0.0098, -0.0385,  0.0298,  0.0268, -0.0154,  0.0686,\n",
      "        -0.0667,  0.0082, -0.0958,  0.0547, -0.0509, -0.0096,  0.0280,  0.0595,\n",
      "        -0.0311, -0.0055,  0.0268,  0.0945,  0.0413,  0.0563,  0.0499, -0.0686,\n",
      "        -0.0130,  0.0166, -0.0855,  0.0771, -0.0469, -0.0978,  0.0552, -0.0943,\n",
      "        -0.0657,  0.0629, -0.0230,  0.0779, -0.0005,  0.0187,  0.0447,  0.0732,\n",
      "        -0.0833, -0.0943,  0.0466,  0.0542,  0.0526,  0.0330, -0.0674,  0.0366,\n",
      "        -0.0994,  0.0585,  0.0570,  0.0542, -0.0430,  0.0273,  0.0721, -0.0500,\n",
      "         0.0731, -0.0851,  0.0448,  0.0556,  0.0562, -0.0575, -0.0404, -0.0145,\n",
      "         0.0232, -0.0342, -0.0870, -0.0829,  0.0355,  0.0161, -0.0330, -0.0339,\n",
      "         0.0934, -0.0080,  0.0311,  0.0490, -0.0730, -0.0816, -0.0629, -0.0809,\n",
      "         0.0971, -0.0809,  0.0393,  0.0499,  0.0916, -0.0957, -0.0669, -0.0581,\n",
      "        -0.0339,  0.0585, -0.0594,  0.0053, -0.0246,  0.0831,  0.0609,  0.0406,\n",
      "         0.0545,  0.0313,  0.0362, -0.0604,  0.0571, -0.0129,  0.0479,  0.0375,\n",
      "        -0.0984,  0.0565, -0.0456, -0.0096,  0.0806, -0.0533,  0.0199, -0.0154,\n",
      "         0.0240,  0.0871,  0.0805,  0.0029, -0.0368, -0.0297, -0.0106,  0.0456,\n",
      "         0.0332, -0.0259,  0.0890,  0.0846, -0.0845,  0.0524,  0.0225,  0.0732,\n",
      "         0.0057,  0.0080, -0.0472, -0.0267, -0.0618,  0.0159,  0.0006, -0.0295,\n",
      "        -0.0373, -0.0310,  0.0943,  0.0960, -0.0446, -0.0383,  0.0867, -0.0344,\n",
      "         0.0104, -0.0459, -0.0988, -0.0644,  0.0859,  0.0158, -0.0438, -0.0623,\n",
      "         0.0257, -0.0806, -0.0735, -0.0893,  0.0083, -0.0090,  0.0734, -0.0179,\n",
      "         0.0678, -0.0452, -0.0696, -0.0496, -0.0545,  0.0929, -0.0427,  0.0129,\n",
      "         0.0620,  0.0563,  0.0487,  0.0703,  0.0185, -0.0686,  0.0385, -0.0426],\n",
      "       requires_grad=True)\n",
      "Parameter containing:\n",
      "tensor([[-0.0119,  0.0403,  0.0373,  ...,  0.0348,  0.0330, -0.0167],\n",
      "        [ 0.0110,  0.0513,  0.0174,  ...,  0.0035, -0.0030, -0.0395],\n",
      "        [ 0.0366, -0.0597,  0.0439,  ..., -0.0463,  0.0112, -0.0546],\n",
      "        ...,\n",
      "        [-0.0139, -0.0539,  0.0415,  ...,  0.0308, -0.0374,  0.0219],\n",
      "        [ 0.0078, -0.0438,  0.0259,  ...,  0.0189,  0.0252, -0.0365],\n",
      "        [-0.0320, -0.0400, -0.0350,  ...,  0.0470, -0.0118,  0.0200]],\n",
      "       requires_grad=True)\n",
      "Parameter containing:\n",
      "tensor([-0.0171,  0.0341,  0.0059,  0.0121, -0.0601, -0.0497, -0.0501,  0.0165,\n",
      "         0.0290,  0.0257,  0.0447,  0.0106], requires_grad=True)\n",
      "\n",
      "\n",
      "Layer params:\n",
      "Parameter containing:\n",
      "tensor([[-0.0119,  0.0403,  0.0373,  ...,  0.0348,  0.0330, -0.0167],\n",
      "        [ 0.0110,  0.0513,  0.0174,  ...,  0.0035, -0.0030, -0.0395],\n",
      "        [ 0.0366, -0.0597,  0.0439,  ..., -0.0463,  0.0112, -0.0546],\n",
      "        ...,\n",
      "        [-0.0139, -0.0539,  0.0415,  ...,  0.0308, -0.0374,  0.0219],\n",
      "        [ 0.0078, -0.0438,  0.0259,  ...,  0.0189,  0.0252, -0.0365],\n",
      "        [-0.0320, -0.0400, -0.0350,  ...,  0.0470, -0.0118,  0.0200]],\n",
      "       requires_grad=True)\n",
      "Parameter containing:\n",
      "tensor([-0.0171,  0.0341,  0.0059,  0.0121, -0.0601, -0.0497, -0.0501,  0.0165,\n",
      "         0.0290,  0.0257,  0.0447,  0.0106], requires_grad=True)\n"
     ]
    }
   ],
   "source": [
    "import torch\n",
    "\n",
    "class TinyModel(torch.nn.Module):\n",
    "\n",
    "    def __init__(self):\n",
    "        super(TinyModel, self).__init__()\n",
    "\n",
    "        self.linear1 = torch.nn.Linear(100, 256)  \n",
    "        self.activation = torch.nn.ReLU()\n",
    "        self.linear2 = torch.nn.Linear(256, 12)   \n",
    "        self.softmax = torch.nn.Softmax(dim=1)    \n",
    "\n",
    "    def forward(self, x):\n",
    "        x = self.linear1(x)\n",
    "        x = self.activation(x)\n",
    "        x = self.linear2(x)\n",
    "        x = self.softmax(x)\n",
    "        return x\n",
    "\n",
    "tinymodel = TinyModel()\n",
    "\n",
    "print('The model:')\n",
    "print(tinymodel)\n",
    "\n",
    "print('\\n\\nJust one layer:')\n",
    "print(tinymodel.linear2)\n",
    "\n",
    "print('\\n\\nModel params:')\n",
    "for param in tinymodel.parameters():\n",
    "    print(param)\n",
    "\n",
    "print('\\n\\nLayer params:')\n",
    "for param in tinymodel.linear2.parameters():\n",
    "    print(param)\n"
   ]
  },
  {
   "cell_type": "code",
   "execution_count": 69,
   "id": "bb6cb33f",
   "metadata": {},
   "outputs": [
    {
     "name": "stdout",
     "output_type": "stream",
     "text": [
      "Input:\n",
      "tensor([[0.6316, 0.8049, 0.4857],\n",
      "        [0.5726, 0.3239, 0.9661]])\n",
      "\n",
      "\n",
      "Weight and Bias parameters:\n",
      "Parameter containing:\n",
      "tensor([[0.1079, 0.1104, 0.4690],\n",
      "        [0.3237, 0.5218, 0.5265]], requires_grad=True)\n",
      "Parameter containing:\n",
      "tensor([-0.5546,  0.0592], requires_grad=True)\n",
      "\n",
      "\n",
      "Output:\n",
      "tensor([[-0.1698,  0.9394],\n",
      "        [-0.0040,  0.9223]], grad_fn=<AddmmBackward0>)\n"
     ]
    }
   ],
   "source": [
    "lin = torch.nn.Linear(3, 2)\n",
    "x = torch.rand(2, 3)\n",
    "print('Input:')\n",
    "print(x)\n",
    "\n",
    "print('\\n\\nWeight and Bias parameters:')\n",
    "for param in lin.parameters():\n",
    "    print(param)\n",
    "\n",
    "y = lin(x)\n",
    "print('\\n\\nOutput:')\n",
    "print(y)"
   ]
  },
  {
   "cell_type": "code",
   "execution_count": 70,
   "id": "6ad6057c",
   "metadata": {},
   "outputs": [],
   "source": [
    "#Convolutional Layers\n",
    "\n",
    "import torch.nn.functional as F\n",
    "import torch.nn as nn\n",
    "\n",
    "class LeNet(nn.Module):\n",
    "\n",
    "    def __init__(self):\n",
    "        super(LeNet, self).__init__()\n",
    "        # 1 input image channel (grayscale), 8 output channels, 5x5 conv kernel\n",
    "        self.conv1 = nn.Conv2d(1, 8, 5)  \n",
    "        self.conv2 = nn.Conv2d(8, 16, 3)  \n",
    "        # Fully connected layers\n",
    "        self.fc1 = nn.Linear(16 * 6 * 6, 128)  \n",
    "        self.fc2 = nn.Linear(128, 90) \n",
    "        self.fc3 = nn.Linear(90, 10)\n",
    "\n",
    "    def forward(self, x):\n",
    "        # Max pooling with a 2x2 window\n",
    "        x = F.max_pool2d(F.relu(self.conv1(x)), (2, 2))\n",
    "        x = F.max_pool2d(F.relu(self.conv2(x)), 2)\n",
    "        x = x.view(-1, self.num_flat_features(x))\n",
    "        x = F.relu(self.fc1(x))\n",
    "        x = F.relu(self.fc2(x))\n",
    "        x = self.fc3(x)\n",
    "        return x\n",
    "\n",
    "    def num_flat_features(self, x):\n",
    "        num_features = 1\n",
    "        for s in x.size()[1:]:  # all dimensions except batch size\n",
    "            num_features *= s\n",
    "        return num_features\n",
    "\n"
   ]
  },
  {
   "cell_type": "code",
   "execution_count": 71,
   "id": "bb5c1d5a",
   "metadata": {},
   "outputs": [],
   "source": [
    "# recurrent layers\n",
    "\n",
    "import torch.nn as nn\n",
    "import torch.nn.functional as F\n",
    "\n",
    "class LSTMTagger(nn.Module):\n",
    "\n",
    "    def __init__(self, embed_dim, hidden_dim, vocab_size, tagset_size):\n",
    "        super(LSTMTagger, self).__init__()\n",
    "        self.hidden_dim = hidden_dim\n",
    "\n",
    "        self.word_embeddings = nn.Embedding(vocab_size, embed_dim)\n",
    "\n",
    "        self.lstm = nn.LSTM(embed_dim, hidden_dim, num_layers=2, dropout=0.1)\n",
    "\n",
    "        self.hidden2tag = nn.Linear(hidden_dim, tagset_size)\n",
    "\n",
    "    def forward(self, sentence):\n",
    "        embeds = self.word_embeddings(sentence)\n",
    "        lstm_out, _ = self.lstm(embeds.view(len(sentence), 1, -1))\n",
    "        tag_space = self.hidden2tag(lstm_out.view(len(sentence), -1))\n",
    "        return F.log_softmax(tag_space, dim=1)\n"
   ]
  },
  {
   "cell_type": "code",
   "execution_count": 72,
   "id": "721033f0",
   "metadata": {},
   "outputs": [
    {
     "name": "stdout",
     "output_type": "stream",
     "text": [
      "tensor([[[0.1557, 0.1757, 0.2677, 0.8848, 0.9332, 0.9379],\n",
      "         [0.3908, 0.3136, 0.8727, 0.0210, 0.3442, 0.3376],\n",
      "         [0.9880, 0.8922, 0.2040, 0.4343, 0.4451, 0.5664],\n",
      "         [0.4348, 0.4496, 0.1762, 0.1195, 0.0643, 0.8608],\n",
      "         [0.1600, 0.6577, 0.3868, 0.0259, 0.3211, 0.0373],\n",
      "         [0.7399, 0.0919, 0.6216, 0.2400, 0.2352, 0.0527]]])\n",
      "tensor([[[0.9880, 0.9379],\n",
      "         [0.7399, 0.8608]]])\n"
     ]
    }
   ],
   "source": [
    "# Other Layers and Functions\n",
    "# Data Manipulation Layers\n",
    "\n",
    "my_tensor = torch.rand(1, 6, 6)\n",
    "print(my_tensor)\n",
    "\n",
    "maxpool_layer = torch.nn.MaxPool2d(3)\n",
    "print(maxpool_layer(my_tensor))"
   ]
  },
  {
   "cell_type": "code",
   "execution_count": 73,
   "id": "95724735",
   "metadata": {},
   "outputs": [
    {
     "name": "stdout",
     "output_type": "stream",
     "text": [
      "tensor([[[13.9285, 21.7321, 18.4989,  9.9961],\n",
      "         [ 8.0421, 18.1633, 15.6748, 18.9762],\n",
      "         [10.2130, 11.0305,  7.8551, 13.8579],\n",
      "         [ 9.1939, 24.7449, 20.9520, 12.2173]]])\n",
      "tensor(14.6923)\n",
      "tensor([[[-0.4736,  1.2776,  0.5520, -1.3560],\n",
      "         [-1.6618,  0.6834,  0.1068,  0.8717],\n",
      "         [-0.2453,  0.1358, -1.3445,  1.4539],\n",
      "         [-1.2020,  1.2629,  0.6618, -0.7227]]],\n",
      "       grad_fn=<NativeBatchNormBackward0>)\n",
      "tensor(-7.4506e-08, grad_fn=<MeanBackward0>)\n"
     ]
    }
   ],
   "source": [
    "#normalisation layer\n",
    "\n",
    "my_tensor = torch.rand(1, 4, 4) * 20 + 5\n",
    "print(my_tensor)\n",
    "\n",
    "print(my_tensor.mean())\n",
    "\n",
    "norm_layer = torch.nn.BatchNorm1d(4)\n",
    "normed_tensor = norm_layer(my_tensor)\n",
    "print(normed_tensor)\n",
    "\n",
    "print(normed_tensor.mean())"
   ]
  },
  {
   "cell_type": "code",
   "execution_count": 74,
   "id": "1d62ed74",
   "metadata": {},
   "outputs": [
    {
     "name": "stdout",
     "output_type": "stream",
     "text": [
      "tensor([[[0.5388, 0.8589, 0.0000, 0.0000],\n",
      "         [0.0000, 1.3096, 0.0000, 0.0000],\n",
      "         [0.0000, 1.1506, 0.9745, 0.0000],\n",
      "         [1.5181, 0.0000, 0.0937, 1.4632]]])\n",
      "tensor([[[0.5388, 0.8589, 0.0000, 0.0000],\n",
      "         [1.6267, 1.3096, 0.4261, 1.0506],\n",
      "         [0.0000, 1.1506, 0.0000, 1.1601],\n",
      "         [0.0000, 0.0000, 0.0937, 1.4632]]])\n"
     ]
    }
   ],
   "source": [
    "#dropout layer\n",
    "\n",
    "my_tensor = torch.rand(1, 4, 4)\n",
    "\n",
    "dropout = torch.nn.Dropout(p=0.4)\n",
    "print(dropout(my_tensor))\n",
    "print(dropout(my_tensor))"
   ]
  },
  {
   "cell_type": "markdown",
   "id": "de95fee0",
   "metadata": {},
   "source": [
    "## PyTorch TensorBoard Support"
   ]
  },
  {
   "cell_type": "code",
   "execution_count": 75,
   "id": "3aaa9327",
   "metadata": {},
   "outputs": [],
   "source": [
    "# intro\n",
    "\n",
    "# PyTorch model and training necessities\n",
    "import torch\n",
    "import torch.nn as nn\n",
    "import torch.nn.functional as F\n",
    "import torch.optim as optim\n",
    "\n",
    "# Image datasets and image manipulation\n",
    "import torchvision\n",
    "import torchvision.transforms as transforms\n",
    "\n",
    "# Image display\n",
    "import matplotlib.pyplot as plt\n",
    "import numpy as np\n",
    "\n",
    "# PyTorch TensorBoard support\n",
    "from torch.utils.tensorboard import SummaryWriter\n",
    "\n",
    "#import tensorflow as tf\n",
    "import tensorboard as tb\n",
    "#tf.io.gfile = tb.compat.tensorflow_stub.io.gfile"
   ]
  },
  {
   "cell_type": "code",
   "execution_count": 76,
   "id": "0dec1e6b",
   "metadata": {},
   "outputs": [
    {
     "name": "stdout",
     "output_type": "stream",
     "text": [
      "Downloading http://fashion-mnist.s3-website.eu-central-1.amazonaws.com/train-images-idx3-ubyte.gz\n",
      "Downloading http://fashion-mnist.s3-website.eu-central-1.amazonaws.com/train-images-idx3-ubyte.gz to ./data/FashionMNIST/raw/train-images-idx3-ubyte.gz\n"
     ]
    },
    {
     "name": "stderr",
     "output_type": "stream",
     "text": [
      "100%|██████████████████████████████████████████████████████████████████████████████████████████████████████████████████████████████████████████████████████| 26421880/26421880 [00:23<00:00, 1107445.79it/s]\n"
     ]
    },
    {
     "name": "stdout",
     "output_type": "stream",
     "text": [
      "Extracting ./data/FashionMNIST/raw/train-images-idx3-ubyte.gz to ./data/FashionMNIST/raw\n",
      "\n",
      "Downloading http://fashion-mnist.s3-website.eu-central-1.amazonaws.com/train-labels-idx1-ubyte.gz\n",
      "Downloading http://fashion-mnist.s3-website.eu-central-1.amazonaws.com/train-labels-idx1-ubyte.gz to ./data/FashionMNIST/raw/train-labels-idx1-ubyte.gz\n"
     ]
    },
    {
     "name": "stderr",
     "output_type": "stream",
     "text": [
      "100%|█████████████████████████████████████████████████████████████████████████████████████████████████████████████████████████████████████████████████████████████| 29515/29515 [00:00<00:00, 270832.03it/s]\n"
     ]
    },
    {
     "name": "stdout",
     "output_type": "stream",
     "text": [
      "Extracting ./data/FashionMNIST/raw/train-labels-idx1-ubyte.gz to ./data/FashionMNIST/raw\n",
      "\n",
      "Downloading http://fashion-mnist.s3-website.eu-central-1.amazonaws.com/t10k-images-idx3-ubyte.gz\n",
      "Downloading http://fashion-mnist.s3-website.eu-central-1.amazonaws.com/t10k-images-idx3-ubyte.gz to ./data/FashionMNIST/raw/t10k-images-idx3-ubyte.gz\n"
     ]
    },
    {
     "name": "stderr",
     "output_type": "stream",
     "text": [
      "100%|████████████████████████████████████████████████████████████████████████████████████████████████████████████████████████████████████████████████████████| 4422102/4422102 [00:01<00:00, 2943929.20it/s]\n"
     ]
    },
    {
     "name": "stdout",
     "output_type": "stream",
     "text": [
      "Extracting ./data/FashionMNIST/raw/t10k-images-idx3-ubyte.gz to ./data/FashionMNIST/raw\n",
      "\n",
      "Downloading http://fashion-mnist.s3-website.eu-central-1.amazonaws.com/t10k-labels-idx1-ubyte.gz\n",
      "Downloading http://fashion-mnist.s3-website.eu-central-1.amazonaws.com/t10k-labels-idx1-ubyte.gz to ./data/FashionMNIST/raw/t10k-labels-idx1-ubyte.gz\n"
     ]
    },
    {
     "name": "stderr",
     "output_type": "stream",
     "text": [
      "100%|██████████████████████████████████████████████████████████████████████████████████████████████████████████████████████████████████████████████████████████████| 5148/5148 [00:00<00:00, 3528726.42it/s]"
     ]
    },
    {
     "name": "stdout",
     "output_type": "stream",
     "text": [
      "Extracting ./data/FashionMNIST/raw/t10k-labels-idx1-ubyte.gz to ./data/FashionMNIST/raw\n",
      "\n"
     ]
    },
    {
     "name": "stderr",
     "output_type": "stream",
     "text": [
      "\n"
     ]
    },
    {
     "data": {
      "image/png": "[encoded data removed]",
      "text/plain": [
       "<Figure size 640x480 with 1 Axes>"
      ]
     },
     "metadata": {},
     "output_type": "display_data"
    }
   ],
   "source": [
    "# showing images on tb\n",
    "\n",
    "# Gather datasets and prepare them for consumption\n",
    "transform = transforms.Compose(\n",
    "    [transforms.ToTensor(),\n",
    "    transforms.Normalize((0.5,), (0.5,))])\n",
    "\n",
    "# Store separate training and validations splits in ./data\n",
    "training_set = torchvision.datasets.FashionMNIST('./data',\n",
    "    download=True,\n",
    "    train=True,\n",
    "    transform=transform)\n",
    "validation_set = torchvision.datasets.FashionMNIST('./data',\n",
    "    download=True,\n",
    "    train=False,\n",
    "    transform=transform)\n",
    "\n",
    "training_loader = torch.utils.data.DataLoader(training_set,\n",
    "                                              batch_size=4,\n",
    "                                              shuffle=True,\n",
    "                                              num_workers=2)\n",
    "\n",
    "\n",
    "validation_loader = torch.utils.data.DataLoader(validation_set,\n",
    "                                                batch_size=4,\n",
    "                                                shuffle=False,\n",
    "                                                num_workers=2)\n",
    "\n",
    "# Class labels\n",
    "classes = ('T-shirt/top', 'Trouser', 'Pullover', 'Dress', 'Coat',\n",
    "        'Sandal', 'Shirt', 'Sneaker', 'Bag', 'Ankle Boot')\n",
    "\n",
    "# Helper function for inline image display\n",
    "def matplotlib_imshow(img, one_channel=False):\n",
    "    if one_channel:\n",
    "        img = img.mean(dim=0)\n",
    "    img = img / 2 + 0.5     # unnormalize\n",
    "    npimg = img.numpy()\n",
    "    if one_channel:\n",
    "        plt.imshow(npimg, cmap=\"Greys\")\n",
    "    else:\n",
    "        plt.imshow(np.transpose(npimg, (1, 2, 0)))\n",
    "\n",
    "# Extract a batch of 4 images\n",
    "dataiter = iter(training_loader)\n",
    "images, labels = next(dataiter)\n",
    "\n",
    "# Create a grid from the images and show them\n",
    "img_grid = torchvision.utils.make_grid(images)\n",
    "matplotlib_imshow(img_grid, one_channel=True)"
   ]
  },
  {
   "cell_type": "code",
   "execution_count": 77,
   "id": "63c2ffca",
   "metadata": {},
   "outputs": [],
   "source": [
    "# Default log_dir argument is \"runs\" - but it's good to be specific\n",
    "writer = SummaryWriter('runs/fashion_mnist_experiment_1')\n",
    "\n",
    "# Write image data to TensorBoard log dir\n",
    "writer.add_image('Four Fashion-MNIST Images', img_grid)\n",
    "writer.flush()"
   ]
  },
  {
   "cell_type": "code",
   "execution_count": 78,
   "id": "4cce9ed2",
   "metadata": {},
   "outputs": [
    {
     "name": "stdout",
     "output_type": "stream",
     "text": [
      "2500\n",
      "Batch 800\n",
      "Batch 1600\n",
      "Batch 2400\n",
      "Batch 3200\n",
      "Batch 4000\n",
      "Batch 4800\n",
      "Batch 5600\n",
      "Batch 6400\n",
      "Batch 7200\n",
      "Batch 8000\n",
      "Batch 8800\n",
      "Batch 9600\n",
      "Batch 10400\n",
      "Batch 11200\n",
      "Batch 12000\n",
      "Batch 12800\n",
      "Batch 13600\n",
      "Batch 14400\n",
      "Finished Training\n"
     ]
    }
   ],
   "source": [
    "\n",
    "# Graphing scalar to visualize training\n",
    "\n",
    "import torch.nn as nn\n",
    "import torch.optim as optim\n",
    "import torch.nn.functional as F\n",
    "\n",
    "class Net(nn.Module):\n",
    "    def __init__(self):\n",
    "        super(Net, self).__init__()\n",
    "        self.conv1 = nn.Conv2d(1, 8, 5)  \n",
    "        self.pool = nn.MaxPool2d(2, 2)\n",
    "        self.conv2 = nn.Conv2d(8, 16, 5)  \n",
    "        self.fc1 = nn.Linear(16 * 4 * 4, 128)  \n",
    "        self.fc2 = nn.Linear(128, 86)  \n",
    "        self.fc3 = nn.Linear(86, 10)\n",
    "\n",
    "    def forward(self, x):\n",
    "        x = self.pool(F.relu(self.conv1(x)))\n",
    "        x = self.pool(F.relu(self.conv2(x)))\n",
    "        x = x.view(-1, 16 * 4 * 4)\n",
    "        x = F.relu(self.fc1(x))\n",
    "        x = F.relu(self.fc2(x))\n",
    "        x = self.fc3(x)\n",
    "        return x\n",
    "\n",
    "net = Net()\n",
    "criterion = nn.CrossEntropyLoss()\n",
    "optimizer = optim.SGD(net.parameters(), lr=0.002, momentum=0.85)  \n",
    "\n",
    "print(len(validation_loader))\n",
    "for epoch in range(1):  # loop over the dataset multiple times\n",
    "    running_loss = 0.0\n",
    "\n",
    "    for i, data in enumerate(training_loader, 0):\n",
    "        # basic training loop\n",
    "        inputs, labels = data\n",
    "        optimizer.zero_grad()\n",
    "        outputs = net(inputs)\n",
    "        loss = criterion(outputs, labels)\n",
    "        loss.backward()\n",
    "        optimizer.step()\n",
    "\n",
    "        running_loss += loss.item()\n",
    "        if i % 800 == 799:    # Changed 1000 to 800\n",
    "            print('Batch {}'.format(i + 1))\n",
    "            # Check against the validation set\n",
    "            running_vloss = 0.0\n",
    "\n",
    "            # In evaluation mode some model specific operations can be omitted eg. dropout layer\n",
    "            net.train(False) # Switching to evaluation mode, eg. turning off regularisation\n",
    "            for j, vdata in enumerate(validation_loader, 0):\n",
    "                vinputs, vlabels = vdata\n",
    "                voutputs = net(vinputs)\n",
    "                vloss = criterion(voutputs, vlabels)\n",
    "                running_vloss += vloss.item()\n",
    "            net.train(True) # Switching back to training mode, eg. turning on regularisation\n",
    "\n",
    "            avg_loss = running_loss / 800  # Updated to match batch interval change\n",
    "            avg_vloss = running_vloss / len(validation_loader)\n",
    "\n",
    "            # Log the running loss averaged per batch\n",
    "            writer.add_scalars('Training vs. Validation Loss',\n",
    "                            { 'Training' : avg_loss, 'Validation' : avg_vloss },\n",
    "                            epoch * len(training_loader) + i)\n",
    "\n",
    "            running_loss = 0.0\n",
    "print('Finished Training')\n",
    "\n",
    "writer.flush()\n"
   ]
  },
  {
   "cell_type": "code",
   "execution_count": 79,
   "id": "abf18534",
   "metadata": {},
   "outputs": [],
   "source": [
    "# Visualizing Your Model\n",
    "\n",
    "# Select a random subset of data and corresponding labels\n",
    "def select_n_random(data, labels, n=100):\n",
    "    assert len(data) == len(labels)\n",
    "\n",
    "    perm = torch.randperm(len(data))\n",
    "    return data[perm][:n], labels[perm][:n]\n",
    "\n",
    "# Extract a random subset of data\n",
    "images, labels = select_n_random(training_set.data, training_set.targets)\n",
    "\n",
    "# get the class labels for each image\n",
    "class_labels = [classes[label] for label in labels]\n",
    "\n",
    "# log embeddings\n",
    "features = images.view(-1, 28 * 28)\n",
    "writer.add_embedding(features,\n",
    "                    metadata=class_labels,\n",
    "                    label_img=images.unsqueeze(1))\n",
    "writer.flush()\n",
    "writer.close()"
   ]
  },
  {
   "cell_type": "markdown",
   "id": "990b6269",
   "metadata": {},
   "source": [
    "## Training with PyTorch"
   ]
  },
  {
   "cell_type": "code",
   "execution_count": 80,
   "id": "4ffed561",
   "metadata": {},
   "outputs": [
    {
     "name": "stdout",
     "output_type": "stream",
     "text": [
      "Training set has 60000 instances\n",
      "Validation set has 10000 instances\n"
     ]
    }
   ],
   "source": [
    "import torch\n",
    "import torchvision\n",
    "import torchvision.transforms as transforms\n",
    "\n",
    "# PyTorch TensorBoard support\n",
    "from torch.utils.tensorboard import SummaryWriter\n",
    "from datetime import datetime\n",
    "\n",
    "\n",
    "transform = transforms.Compose(\n",
    "    [transforms.ToTensor(),\n",
    "    transforms.Normalize((0.5,), (0.5,))])\n",
    "\n",
    "# Create datasets for training & validation, download if necessary\n",
    "training_set = torchvision.datasets.FashionMNIST('./data', train=True, transform=transform, download=True)\n",
    "validation_set = torchvision.datasets.FashionMNIST('./data', train=False, transform=transform, download=True)\n",
    "\n",
    "# Create data loaders for our datasets; shuffle for training, not for validation\n",
    "training_loader = torch.utils.data.DataLoader(training_set, batch_size=4, shuffle=True)\n",
    "validation_loader = torch.utils.data.DataLoader(validation_set, batch_size=4, shuffle=False)\n",
    "\n",
    "# Class labels\n",
    "classes = ('T-shirt/top', 'Trouser', 'Pullover', 'Dress', 'Coat',\n",
    "        'Sandal', 'Shirt', 'Sneaker', 'Bag', 'Ankle Boot')\n",
    "\n",
    "# Report split sizes\n",
    "print('Training set has {} instances'.format(len(training_set)))\n",
    "print('Validation set has {} instances'.format(len(validation_set)))"
   ]
  },
  {
   "cell_type": "code",
   "execution_count": 81,
   "id": "eaa904dc",
   "metadata": {},
   "outputs": [
    {
     "name": "stdout",
     "output_type": "stream",
     "text": [
      "Shirt  Sneaker  Ankle Boot  Dress\n"
     ]
    },
    {
     "data": {
      "image/png": "[encoded data removed]",
      "text/plain": [
       "<Figure size 640x480 with 1 Axes>"
      ]
     },
     "metadata": {},
     "output_type": "display_data"
    }
   ],
   "source": [
    "import matplotlib.pyplot as plt\n",
    "import numpy as np\n",
    "\n",
    "# Helper function for inline image display\n",
    "def matplotlib_imshow(img, one_channel=False):\n",
    "    if one_channel:\n",
    "        img = img.mean(dim=0)\n",
    "    img = img / 2 + 0.5     # unnormalize\n",
    "    npimg = img.numpy()\n",
    "    if one_channel:\n",
    "        plt.imshow(npimg, cmap=\"Greys\")\n",
    "    else:\n",
    "        plt.imshow(np.transpose(npimg, (1, 2, 0)))\n",
    "\n",
    "dataiter = iter(training_loader)\n",
    "images, labels = next(dataiter)\n",
    "\n",
    "# Create a grid from the images and show them\n",
    "img_grid = torchvision.utils.make_grid(images)\n",
    "matplotlib_imshow(img_grid, one_channel=True)\n",
    "print('  '.join(classes[labels[j]] for j in range(4)))"
   ]
  },
  {
   "cell_type": "code",
   "execution_count": 82,
   "id": "87638fc5",
   "metadata": {},
   "outputs": [
    {
     "name": "stdout",
     "output_type": "stream",
     "text": [
      "tensor([[0.3945, 0.7994, 0.6828, 0.7773, 0.1552, 0.4163, 0.7845, 1.0476, 0.3640,\n",
      "         0.0022],\n",
      "        [1.1520, 0.3465, 0.9913, 0.2434, 0.3102, 0.2129, 0.7529, 0.3718, 0.4161,\n",
      "         0.9897],\n",
      "        [1.1280, 0.6696, 0.1995, 1.0535, 0.3554, 0.5781, 0.9852, 0.9260, 0.3000,\n",
      "         0.4716],\n",
      "        [0.4121, 0.3697, 0.7357, 1.1271, 1.1294, 0.6360, 0.8401, 0.7700, 0.5333,\n",
      "         0.6136]])\n",
      "tensor([2, 5, 3, 7])\n",
      "Total loss for this batch: 2.2963\n"
     ]
    }
   ],
   "source": [
    "# the model and loss function\n",
    "import torch.nn as nn\n",
    "import torch.nn.functional as F\n",
    "import torch\n",
    "\n",
    "# PyTorch models inherit from torch.nn.Module\n",
    "class GarmentClassifier(nn.Module):\n",
    "    def __init__(self):\n",
    "        super(GarmentClassifier, self).__init__()\n",
    "        self.conv1 = nn.Conv2d(1, 8, 5)  \n",
    "        self.pool = nn.MaxPool2d(2, 2)\n",
    "        self.conv2 = nn.Conv2d(8, 16, 5)  \n",
    "        self.fc1 = nn.Linear(16 * 4 * 4, 128) \n",
    "        self.fc2 = nn.Linear(128, 86) \n",
    "        self.fc3 = nn.Linear(86, 10)\n",
    "\n",
    "    def forward(self, x):\n",
    "        x = self.pool(F.relu(self.conv1(x)))\n",
    "        x = self.pool(F.relu(self.conv2(x)))\n",
    "        x = x.view(-1, 16 * 4 * 4)\n",
    "        x = F.relu(self.fc1(x))\n",
    "        x = F.relu(self.fc2(x))\n",
    "        x = self.fc3(x)\n",
    "        return x\n",
    "\n",
    "\n",
    "model = GarmentClassifier()\n",
    "\n",
    "# loss function\n",
    "loss_fn = nn.CrossEntropyLoss()\n",
    "\n",
    "dummy_outputs = torch.rand(4, 10) * 1.2 \n",
    "dummy_labels = torch.tensor([2, 5, 3, 7])  \n",
    "\n",
    "print(dummy_outputs)\n",
    "print(dummy_labels)\n",
    "\n",
    "loss = loss_fn(dummy_outputs, dummy_labels)\n",
    "print('Total loss for this batch: {:.4f}'.format(loss.item())) \n",
    "\n"
   ]
  },
  {
   "cell_type": "code",
   "execution_count": 83,
   "id": "39f59b20",
   "metadata": {},
   "outputs": [],
   "source": [
    "# Optimizers specified in the torch.optim package\n",
    "optimizer = torch.optim.Adam(model.parameters(), lr=0.001)"
   ]
  },
  {
   "cell_type": "code",
   "execution_count": 84,
   "id": "296f68a2",
   "metadata": {},
   "outputs": [],
   "source": [
    "def train_one_epoch(epoch_index, tb_writer):\n",
    "    running_loss = 0.\n",
    "    last_loss = 0.\n",
    "\n",
    "    for i, data in enumerate(training_loader):\n",
    "        # Every data instance is an input + label pair\n",
    "        inputs, labels = data\n",
    "\n",
    "        # Zero your gradients for every batch!\n",
    "        optimizer.zero_grad()\n",
    "\n",
    "        # Make predictions for this batch\n",
    "        outputs = model(inputs)\n",
    "\n",
    "        # Compute the loss and its gradients\n",
    "        loss = loss_fn(outputs, labels)\n",
    "        loss.backward()\n",
    "\n",
    "        # Adjust learning weights\n",
    "        optimizer.step()\n",
    "\n",
    "        # Gather data and report\n",
    "        running_loss += loss.item()\n",
    "        if i % 1000 == 999:\n",
    "            last_loss = running_loss / 1000 # loss per batch\n",
    "            print('  batch {} loss: {}'.format(i + 1, last_loss))\n",
    "            tb_x = epoch_index * len(training_loader) + i + 1\n",
    "            tb_writer.add_scalar('Loss/train', last_loss, tb_x)\n",
    "            running_loss = 0.\n",
    "\n",
    "    return last_loss"
   ]
  },
  {
   "cell_type": "code",
   "execution_count": 85,
   "id": "83fb193e",
   "metadata": {},
   "outputs": [
    {
     "name": "stdout",
     "output_type": "stream",
     "text": [
      "EPOCH 1:\n",
      "  batch 1000 loss: 0.9151718390495517\n",
      "  batch 2000 loss: 0.6202472543679177\n",
      "  batch 3000 loss: 0.5643725368448067\n",
      "  batch 4000 loss: 0.5023965198763762\n",
      "  batch 5000 loss: 0.4723432830864331\n",
      "  batch 6000 loss: 0.46979231967101803\n",
      "  batch 7000 loss: 0.43251952564913515\n",
      "  batch 8000 loss: 0.42968929542462864\n",
      "  batch 9000 loss: 0.40651063321530817\n",
      "  batch 10000 loss: 0.3974895549704415\n",
      "  batch 11000 loss: 0.3867344035843562\n",
      "  batch 12000 loss: 0.390543200385524\n",
      "  batch 13000 loss: 0.3753908852164786\n",
      "  batch 14000 loss: 0.3749263427330952\n",
      "  batch 15000 loss: 0.3650937195924398\n",
      "LOSS train 0.3650937195924398 valid 0.3802827000617981\n",
      "EPOCH 2:\n",
      "  batch 1000 loss: 0.34066669863789867\n",
      "  batch 2000 loss: 0.34289261889283623\n",
      "  batch 3000 loss: 0.34036110875958003\n",
      "  batch 4000 loss: 0.3560674356858071\n",
      "  batch 5000 loss: 0.36043689324029904\n",
      "  batch 6000 loss: 0.34826272739884373\n",
      "  batch 7000 loss: 0.3376441782252755\n",
      "  batch 8000 loss: 0.35428736261518495\n",
      "  batch 9000 loss: 0.32638487796886695\n",
      "  batch 10000 loss: 0.3230174380159115\n",
      "  batch 11000 loss: 0.34395363183066363\n",
      "  batch 12000 loss: 0.3158025697080066\n",
      "  batch 13000 loss: 0.3375945404874928\n",
      "  batch 14000 loss: 0.320263318146167\n",
      "  batch 15000 loss: 0.33466612518139427\n",
      "LOSS train 0.33466612518139427 valid 0.36341243982315063\n",
      "EPOCH 3:\n",
      "  batch 1000 loss: 0.2948245082999529\n",
      "  batch 2000 loss: 0.3128129871414189\n",
      "  batch 3000 loss: 0.292507689884078\n",
      "  batch 4000 loss: 0.32568308957281167\n",
      "  batch 5000 loss: 0.33088519149857987\n",
      "  batch 6000 loss: 0.3136527296024833\n",
      "  batch 7000 loss: 0.3013932288295005\n",
      "  batch 8000 loss: 0.29997113959688615\n",
      "  batch 9000 loss: 0.3118621461081475\n",
      "  batch 10000 loss: 0.29780769378968874\n",
      "  batch 11000 loss: 0.3126558205807546\n",
      "  batch 12000 loss: 0.3206750890519397\n",
      "  batch 13000 loss: 0.3033872501123477\n",
      "  batch 14000 loss: 0.3079314530393258\n",
      "  batch 15000 loss: 0.3110501068874523\n",
      "LOSS train 0.3110501068874523 valid 0.359223335981369\n",
      "EPOCH 4:\n",
      "  batch 1000 loss: 0.2834254245155041\n",
      "  batch 2000 loss: 0.28170380174557974\n",
      "  batch 3000 loss: 0.2951066232650097\n",
      "  batch 4000 loss: 0.30436856430150466\n",
      "  batch 5000 loss: 0.27607166309603975\n",
      "  batch 6000 loss: 0.30231921128727957\n",
      "  batch 7000 loss: 0.28840682035172405\n",
      "  batch 8000 loss: 0.2866798472102374\n",
      "  batch 9000 loss: 0.2871043244319861\n",
      "  batch 10000 loss: 0.3164198230497119\n",
      "  batch 11000 loss: 0.28423351222807935\n",
      "  batch 12000 loss: 0.2950300338176764\n",
      "  batch 13000 loss: 0.2781561185767589\n",
      "  batch 14000 loss: 0.27156950790997064\n",
      "  batch 15000 loss: 0.2830666079779343\n",
      "LOSS train 0.2830666079779343 valid 0.33053746819496155\n",
      "EPOCH 5:\n",
      "  batch 1000 loss: 0.28783246794679684\n",
      "  batch 2000 loss: 0.26569180489293415\n",
      "  batch 3000 loss: 0.25830317908973716\n",
      "  batch 4000 loss: 0.2764563101214845\n",
      "  batch 5000 loss: 0.28114197205267205\n",
      "  batch 6000 loss: 0.26329919682842673\n",
      "  batch 7000 loss: 0.28249880796337823\n",
      "  batch 8000 loss: 0.2784005422156186\n",
      "  batch 9000 loss: 0.279125417776449\n",
      "  batch 10000 loss: 0.2779295635068866\n",
      "  batch 11000 loss: 0.2763063657055348\n",
      "  batch 12000 loss: 0.27425932126283037\n",
      "  batch 13000 loss: 0.2936412578114557\n",
      "  batch 14000 loss: 0.26204137448690606\n",
      "  batch 15000 loss: 0.285237571408526\n",
      "LOSS train 0.285237571408526 valid 0.30898648500442505\n",
      "EPOCH 6:\n",
      "  batch 1000 loss: 0.2569832075086198\n",
      "  batch 2000 loss: 0.24788946480605456\n",
      "  batch 3000 loss: 0.2575103153603303\n",
      "  batch 4000 loss: 0.237765383386184\n",
      "  batch 5000 loss: 0.2757265233986346\n",
      "  batch 6000 loss: 0.287625480138062\n",
      "  batch 7000 loss: 0.27070788171408017\n",
      "  batch 8000 loss: 0.2587708199371002\n",
      "  batch 9000 loss: 0.2644737863987713\n",
      "  batch 10000 loss: 0.27430153742729985\n",
      "  batch 11000 loss: 0.25568620507048934\n",
      "  batch 12000 loss: 0.26711456014810525\n",
      "  batch 13000 loss: 0.2669385351719248\n",
      "  batch 14000 loss: 0.2795768231511206\n",
      "  batch 15000 loss: 0.259630761868905\n",
      "LOSS train 0.259630761868905 valid 0.3360796570777893\n",
      "EPOCH 7:\n",
      "  batch 1000 loss: 0.2609583713899834\n",
      "  batch 2000 loss: 0.2589804078327643\n",
      "  batch 3000 loss: 0.2519791706923018\n",
      "  batch 4000 loss: 0.2655999069165835\n",
      "  batch 5000 loss: 0.26078772473163647\n",
      "  batch 6000 loss: 0.27624962095974737\n",
      "  batch 7000 loss: 0.26124794161740994\n",
      "  batch 8000 loss: 0.2483185047590192\n",
      "  batch 9000 loss: 0.2538482372603921\n",
      "  batch 10000 loss: 0.2732091902212544\n",
      "  batch 11000 loss: 0.25690988775203666\n",
      "  batch 12000 loss: 0.2675063706375628\n",
      "  batch 13000 loss: 0.25828644972564196\n",
      "  batch 14000 loss: 0.2652073477721405\n",
      "  batch 15000 loss: 0.2568122560308758\n",
      "LOSS train 0.2568122560308758 valid 0.33569958806037903\n",
      "EPOCH 8:\n",
      "  batch 1000 loss: 0.234522123172406\n",
      "  batch 2000 loss: 0.2547664942301763\n",
      "  batch 3000 loss: 0.25421263683457657\n",
      "  batch 4000 loss: 0.26753273353582235\n",
      "  batch 5000 loss: 0.2523950296377448\n",
      "  batch 6000 loss: 0.2345218990649531\n",
      "  batch 7000 loss: 0.2436706252023031\n",
      "  batch 8000 loss: 0.2511511015869479\n",
      "  batch 9000 loss: 0.25719762182671685\n",
      "  batch 10000 loss: 0.2560832626209158\n",
      "  batch 11000 loss: 0.25558956630679996\n",
      "  batch 12000 loss: 0.2660364493466957\n",
      "  batch 13000 loss: 0.26182352514592827\n",
      "  batch 14000 loss: 0.2755497725444777\n",
      "  batch 15000 loss: 0.26358216076081475\n",
      "LOSS train 0.26358216076081475 valid 0.32717856764793396\n",
      "EPOCH 9:\n",
      "  batch 1000 loss: 0.212267584850326\n",
      "  batch 2000 loss: 0.22587018325626979\n",
      "  batch 3000 loss: 0.23929059301006708\n",
      "  batch 4000 loss: 0.24873116591124217\n",
      "  batch 5000 loss: 0.2549776623988897\n",
      "  batch 6000 loss: 0.2420037647181095\n",
      "  batch 7000 loss: 0.22739685969472573\n",
      "  batch 8000 loss: 0.24339629468409923\n",
      "  batch 9000 loss: 0.2546337881975192\n",
      "  batch 10000 loss: 0.2684811412457908\n",
      "  batch 11000 loss: 0.2736988498754801\n",
      "  batch 12000 loss: 0.23643585760007974\n",
      "  batch 13000 loss: 0.26865758040202276\n",
      "  batch 14000 loss: 0.2805659527479034\n",
      "  batch 15000 loss: 0.2646053253897085\n",
      "LOSS train 0.2646053253897085 valid 0.3292580544948578\n",
      "EPOCH 10:\n",
      "  batch 1000 loss: 0.23259132161993554\n",
      "  batch 2000 loss: 0.22827228442516373\n",
      "  batch 3000 loss: 0.23003615069703104\n",
      "  batch 4000 loss: 0.2325209813871669\n",
      "  batch 5000 loss: 0.23023406655472162\n",
      "  batch 6000 loss: 0.25970283531448096\n",
      "  batch 7000 loss: 0.22951911110921627\n",
      "  batch 8000 loss: 0.24794007287463726\n",
      "  batch 9000 loss: 0.25865302563172543\n",
      "  batch 10000 loss: 0.22771447848654153\n",
      "  batch 11000 loss: 0.24531929503035996\n",
      "  batch 12000 loss: 0.26157225515333293\n",
      "  batch 13000 loss: 0.26960114446732975\n",
      "  batch 14000 loss: 0.26038807163486977\n",
      "  batch 15000 loss: 0.25165312184291205\n",
      "LOSS train 0.25165312184291205 valid 0.3480965793132782\n",
      "EPOCH 11:\n",
      "  batch 1000 loss: 0.21697751175752364\n",
      "  batch 2000 loss: 0.2318162310666305\n",
      "  batch 3000 loss: 0.22807141106306653\n",
      "  batch 4000 loss: 0.23900307173095967\n",
      "  batch 5000 loss: 0.24470163794340385\n",
      "  batch 6000 loss: 0.24779013511939052\n",
      "  batch 7000 loss: 0.21835363897036839\n",
      "  batch 8000 loss: 0.22930462613270916\n",
      "  batch 9000 loss: 0.24965057795885365\n",
      "  batch 10000 loss: 0.25364260876125766\n",
      "  batch 11000 loss: 0.2560320230132072\n",
      "  batch 12000 loss: 0.25803699263656527\n",
      "  batch 13000 loss: 0.23609993805741555\n",
      "  batch 14000 loss: 0.2847509661585603\n",
      "  batch 15000 loss: 0.2507362937145773\n",
      "LOSS train 0.2507362937145773 valid 0.3134555220603943\n",
      "EPOCH 12:\n",
      "  batch 1000 loss: 0.21679087350577883\n",
      "  batch 2000 loss: 0.230553565304706\n",
      "  batch 3000 loss: 0.2323016937070148\n",
      "  batch 4000 loss: 0.2420788210060157\n",
      "  batch 5000 loss: 0.26512297265813123\n",
      "  batch 6000 loss: 0.244591297868424\n",
      "  batch 7000 loss: 0.22370420359826285\n",
      "  batch 8000 loss: 0.2316616011005281\n",
      "  batch 9000 loss: 0.2657183262056028\n",
      "  batch 10000 loss: 0.2233773751132217\n",
      "  batch 11000 loss: 0.2338072026722823\n",
      "  batch 12000 loss: 0.2603535459964137\n",
      "  batch 13000 loss: 0.22405314627414333\n",
      "  batch 14000 loss: 0.25564564415955826\n",
      "  batch 15000 loss: 0.23751428890135265\n",
      "LOSS train 0.23751428890135265 valid 0.34709957242012024\n",
      "EPOCH 13:\n",
      "  batch 1000 loss: 0.2377795500615294\n",
      "  batch 2000 loss: 0.20660002218791562\n",
      "  batch 3000 loss: 0.22847904696366944\n",
      "  batch 4000 loss: 0.23565396636796992\n",
      "  batch 5000 loss: 0.23924707799164527\n",
      "  batch 6000 loss: 0.2323252069214404\n",
      "  batch 7000 loss: 0.235502177009086\n",
      "  batch 8000 loss: 0.2482708615829697\n",
      "  batch 9000 loss: 0.23722607364943263\n",
      "  batch 10000 loss: 0.23792679884509135\n",
      "  batch 11000 loss: 0.2400609882008438\n"
     ]
    },
    {
     "name": "stdout",
     "output_type": "stream",
     "text": [
      "  batch 12000 loss: 0.23441256945850605\n",
      "  batch 13000 loss: 0.2530405623389972\n",
      "  batch 14000 loss: 0.25301991141927777\n",
      "  batch 15000 loss: 0.25494113227893184\n",
      "LOSS train 0.25494113227893184 valid 0.3351253569126129\n",
      "EPOCH 14:\n",
      "  batch 1000 loss: 0.2040623566930498\n",
      "  batch 2000 loss: 0.20064368989576328\n",
      "  batch 3000 loss: 0.2309628026325029\n",
      "  batch 4000 loss: 0.24195934486753698\n",
      "  batch 5000 loss: 0.22598522325086737\n",
      "  batch 6000 loss: 0.22960162732112133\n",
      "  batch 7000 loss: 0.21978291978465914\n",
      "  batch 8000 loss: 0.22687811251602036\n",
      "  batch 9000 loss: 0.2567878430657679\n",
      "  batch 10000 loss: 0.2393360516233382\n",
      "  batch 11000 loss: 0.24522732806105563\n",
      "  batch 12000 loss: 0.22108776113334\n",
      "  batch 13000 loss: 0.23175209235037622\n",
      "  batch 14000 loss: 0.23854024618455777\n",
      "  batch 15000 loss: 0.26787296356071294\n",
      "LOSS train 0.26787296356071294 valid 0.3434830904006958\n",
      "EPOCH 15:\n",
      "  batch 1000 loss: 0.23160182864897313\n",
      "  batch 2000 loss: 0.23819254893491848\n",
      "  batch 3000 loss: 0.21883910481074348\n",
      "  batch 4000 loss: 0.2237713842584934\n",
      "  batch 5000 loss: 0.23494744382368662\n",
      "  batch 6000 loss: 0.22152453436374156\n",
      "  batch 7000 loss: 0.22871817352428872\n",
      "  batch 8000 loss: 0.23229763231976097\n",
      "  batch 9000 loss: 0.21098209701012835\n",
      "  batch 10000 loss: 0.23315767574803908\n",
      "  batch 11000 loss: 0.24607170995515712\n",
      "  batch 12000 loss: 0.25897938850679086\n",
      "  batch 13000 loss: 0.23428255665723507\n",
      "  batch 14000 loss: 0.22654095836209262\n",
      "  batch 15000 loss: 0.2544700196134987\n",
      "LOSS train 0.2544700196134987 valid 0.3682761490345001\n",
      "EPOCH 16:\n",
      "  batch 1000 loss: 0.19380490299946995\n",
      "  batch 2000 loss: 0.2415972758209859\n",
      "  batch 3000 loss: 0.22145377512458328\n",
      "  batch 4000 loss: 0.1948105252368383\n",
      "  batch 5000 loss: 0.2151609454419571\n",
      "  batch 6000 loss: 0.21092417295024682\n",
      "  batch 7000 loss: 0.22821373845631734\n",
      "  batch 8000 loss: 0.24187757808492363\n",
      "  batch 9000 loss: 0.250138161843333\n",
      "  batch 10000 loss: 0.25145093460873313\n",
      "  batch 11000 loss: 0.24143619608354905\n",
      "  batch 12000 loss: 0.2190635750723113\n",
      "  batch 13000 loss: 0.25218338703392496\n",
      "  batch 14000 loss: 0.2524240109271808\n",
      "  batch 15000 loss: 0.22224833475245415\n",
      "LOSS train 0.22224833475245415 valid 0.332194447517395\n",
      "EPOCH 17:\n",
      "  batch 1000 loss: 0.20979789895289933\n",
      "  batch 2000 loss: 0.20631463010178566\n",
      "  batch 3000 loss: 0.23828309894741492\n",
      "  batch 4000 loss: 0.23297688194710986\n",
      "  batch 5000 loss: 0.22535712799029306\n",
      "  batch 6000 loss: 0.2537434177060312\n",
      "  batch 7000 loss: 0.2487438734093366\n",
      "  batch 8000 loss: 0.24630232212152475\n",
      "  batch 9000 loss: 0.22574785976708564\n",
      "  batch 10000 loss: 0.23384296667713772\n",
      "  batch 11000 loss: 0.2524927938749801\n",
      "  batch 12000 loss: 0.241271810592603\n",
      "  batch 13000 loss: 0.2337333683834213\n",
      "  batch 14000 loss: 0.2402720493347738\n",
      "  batch 15000 loss: 0.23171135438800275\n",
      "LOSS train 0.23171135438800275 valid 0.3595406115055084\n",
      "EPOCH 18:\n",
      "  batch 1000 loss: 0.1955505508321292\n",
      "  batch 2000 loss: 0.22481952431832775\n",
      "  batch 3000 loss: 0.24431537016353314\n",
      "  batch 4000 loss: 0.23586029735623332\n",
      "  batch 5000 loss: 0.22496130622047894\n",
      "  batch 6000 loss: 0.21520897003376843\n",
      "  batch 7000 loss: 0.21658013514803282\n",
      "  batch 8000 loss: 0.25442772832608307\n",
      "  batch 9000 loss: 0.20535486535963127\n",
      "  batch 10000 loss: 0.2711229798616607\n",
      "  batch 11000 loss: 0.2555763539939057\n",
      "  batch 12000 loss: 0.22472481349361115\n",
      "  batch 13000 loss: 0.2216762828821093\n",
      "  batch 14000 loss: 0.23001829336839982\n",
      "  batch 15000 loss: 0.2140722969450309\n",
      "LOSS train 0.2140722969450309 valid 0.39025112986564636\n",
      "EPOCH 19:\n",
      "  batch 1000 loss: 0.21894518960120551\n",
      "  batch 2000 loss: 0.23856111981702466\n",
      "  batch 3000 loss: 0.2044851834199691\n",
      "  batch 4000 loss: 0.21862586815116586\n",
      "  batch 5000 loss: 0.21440332821939875\n",
      "  batch 6000 loss: 0.20903084544572542\n",
      "  batch 7000 loss: 0.23766284574171848\n",
      "  batch 8000 loss: 0.23444380663376077\n",
      "  batch 9000 loss: 0.20700018107396523\n",
      "  batch 10000 loss: 0.21919679790013555\n",
      "  batch 11000 loss: 0.23579569269205483\n",
      "  batch 12000 loss: 0.23580828020041134\n",
      "  batch 13000 loss: 0.23308534012070375\n",
      "  batch 14000 loss: 0.24444889101323855\n",
      "  batch 15000 loss: 0.28297523099940963\n",
      "LOSS train 0.28297523099940963 valid 0.35691723227500916\n",
      "EPOCH 20:\n",
      "  batch 1000 loss: 0.22800195208082866\n",
      "  batch 2000 loss: 0.21061774259457558\n",
      "  batch 3000 loss: 0.22142543900508813\n",
      "  batch 4000 loss: 0.21634934513519585\n",
      "  batch 5000 loss: 0.22227065694598205\n",
      "  batch 6000 loss: 0.19231971265238973\n",
      "  batch 7000 loss: 0.20984961325773777\n",
      "  batch 8000 loss: 0.23591463526753137\n",
      "  batch 9000 loss: 0.21590045045874245\n",
      "  batch 10000 loss: 0.2350868338130382\n",
      "  batch 11000 loss: 0.22601169550991948\n",
      "  batch 12000 loss: 0.21344864163916416\n",
      "  batch 13000 loss: 0.2247448157402415\n",
      "  batch 14000 loss: 0.22738327378021586\n",
      "  batch 15000 loss: 0.2518949348100354\n",
      "LOSS train 0.2518949348100354 valid 0.39003491401672363\n"
     ]
    }
   ],
   "source": [
    "# Initializing in a separate cell so we can easily add more epochs to the same run\n",
    "timestamp = datetime.now().strftime('%Y%m%d_%H%M%S')\n",
    "writer = SummaryWriter('runs/fashion_trainer_{}'.format(timestamp))\n",
    "epoch_number = 0\n",
    "\n",
    "EPOCHS = 20\n",
    "\n",
    "best_vloss = 1_000_000.\n",
    "\n",
    "for epoch in range(EPOCHS):\n",
    "    print('EPOCH {}:'.format(epoch_number + 1))\n",
    "\n",
    "    # Make sure gradient tracking is on, and do a pass over the data\n",
    "    model.train(True)\n",
    "    avg_loss = train_one_epoch(epoch_number, writer)\n",
    "\n",
    "\n",
    "    running_vloss = 0.0\n",
    "    # Set the model to evaluation mode, disabling dropout and using population\n",
    "    # statistics for batch normalization.\n",
    "    model.eval()\n",
    "\n",
    "    # Disable gradient computation and reduce memory consumption.\n",
    "    with torch.no_grad():\n",
    "        for i, vdata in enumerate(validation_loader):\n",
    "            vinputs, vlabels = vdata\n",
    "            voutputs = model(vinputs)\n",
    "            vloss = loss_fn(voutputs, vlabels)\n",
    "            running_vloss += vloss\n",
    "\n",
    "    avg_vloss = running_vloss / (i + 1)\n",
    "    print('LOSS train {} valid {}'.format(avg_loss, avg_vloss))\n",
    "\n",
    "    # Log the running loss averaged per batch\n",
    "    # for both training and validation\n",
    "    writer.add_scalars('Training vs. Validation Loss',\n",
    "                    { 'Training' : avg_loss, 'Validation' : avg_vloss },\n",
    "                    epoch_number + 1)\n",
    "    writer.flush()\n",
    "\n",
    "    # Track best performance, and save the model's state\n",
    "    if avg_vloss < best_vloss:\n",
    "        best_vloss = avg_vloss\n",
    "        model_path = 'model_{}_{}'.format(timestamp, epoch_number)\n",
    "        torch.save(model.state_dict(), model_path)\n",
    "\n",
    "    epoch_number += 1"
   ]
  },
  {
   "cell_type": "code",
   "execution_count": 88,
   "id": "64919dfd",
   "metadata": {},
   "outputs": [],
   "source": [
    "saved_model = GarmentClassifier()\n",
    "#saved_model.load_state_dict(torch.load(\"dl\"))"
   ]
  },
  {
   "cell_type": "code",
   "execution_count": 87,
   "id": "5f4f729f",
   "metadata": {},
   "outputs": [],
   "source": [
    "# Save the model's state dictionary (weights)\n",
    "torch.save(model.state_dict(), \"a0_part_1_yavarkha.pt\")"
   ]
  },
  {
   "cell_type": "code",
   "execution_count": null,
   "id": "4e6cc84b",
   "metadata": {},
   "outputs": [],
   "source": []
  }
 ],
 "metadata": {
  "kernelspec": {
   "display_name": "Python 3 (ipykernel)",
   "language": "python",
   "name": "python3"
  },
  "language_info": {
   "codemirror_mode": {
    "name": "ipython",
    "version": 3
   },
   "file_extension": ".py",
   "mimetype": "text/x-python",
   "name": "python",
   "nbconvert_exporter": "python",
   "pygments_lexer": "ipython3",
   "version": "3.11.4"
  }
 },
 "nbformat": 4,
 "nbformat_minor": 5
}
